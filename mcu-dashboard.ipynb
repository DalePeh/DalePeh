{
 "cells": [
  {
   "cell_type": "code",
   "execution_count": 1,
   "id": "1c43ac7c",
   "metadata": {
    "_cell_guid": "b1076dfc-b9ad-4769-8c92-a6c4dae69d19",
    "_uuid": "8f2839f25d086af736a60e9eeb907d3b93b6e0e5",
    "execution": {
     "iopub.execute_input": "2023-01-09T15:49:02.929112Z",
     "iopub.status.busy": "2023-01-09T15:49:02.928445Z",
     "iopub.status.idle": "2023-01-09T15:49:02.949586Z",
     "shell.execute_reply": "2023-01-09T15:49:02.948097Z"
    },
    "papermill": {
     "duration": 0.039804,
     "end_time": "2023-01-09T15:49:02.952730",
     "exception": false,
     "start_time": "2023-01-09T15:49:02.912926",
     "status": "completed"
    },
    "tags": []
   },
   "outputs": [
    {
     "name": "stdout",
     "output_type": "stream",
     "text": [
      "/kaggle/input/mcu-movies-dataset/rating.csv\n",
      "/kaggle/input/mcu-movies-dataset/box_office.csv\n",
      "/kaggle/input/mcu-movies-dataset/creators.csv\n"
     ]
    }
   ],
   "source": [
    "# This Python 3 environment comes with many helpful analytics libraries installed\n",
    "# It is defined by the kaggle/python Docker image: https://github.com/kaggle/docker-python\n",
    "# For example, here's several helpful packages to load\n",
    "\n",
    "import numpy as np # linear algebra\n",
    "import pandas as pd # data processing, CSV file I/O (e.g. pd.read_csv)\n",
    "\n",
    "# Input data files are available in the read-only \"../input/\" directory\n",
    "# For example, running this (by clicking run or pressing Shift+Enter) will list all files under the input directory\n",
    "\n",
    "import os\n",
    "for dirname, _, filenames in os.walk('/kaggle/input'):\n",
    "    for filename in filenames:\n",
    "        print(os.path.join(dirname, filename))\n",
    "\n",
    "# You can write up to 20GB to the current directory (/kaggle/working/) that gets preserved as output when you create a version using \"Save & Run All\" \n",
    "# You can also write temporary files to /kaggle/temp/, but they won't be saved outside of the current session"
   ]
  },
  {
   "cell_type": "markdown",
   "id": "b20d267d",
   "metadata": {
    "papermill": {
     "duration": 0.01386,
     "end_time": "2023-01-09T15:49:02.979343",
     "exception": false,
     "start_time": "2023-01-09T15:49:02.965483",
     "status": "completed"
    },
    "tags": []
   },
   "source": [
    "# Install Dash\n",
    "- Dash Bootstrap Components\n",
    "- Dash Bootstrap Templates\n",
    "\n",
    "**Note: After installation, RESTART KERNEL**"
   ]
  },
  {
   "cell_type": "code",
   "execution_count": 2,
   "id": "9dd4aa21",
   "metadata": {
    "execution": {
     "iopub.execute_input": "2023-01-09T15:49:03.004678Z",
     "iopub.status.busy": "2023-01-09T15:49:03.004197Z",
     "iopub.status.idle": "2023-01-09T15:49:19.776076Z",
     "shell.execute_reply": "2023-01-09T15:49:19.774500Z"
    },
    "papermill": {
     "duration": 16.788135,
     "end_time": "2023-01-09T15:49:19.779036",
     "exception": false,
     "start_time": "2023-01-09T15:49:02.990901",
     "status": "completed"
    },
    "tags": []
   },
   "outputs": [
    {
     "name": "stdout",
     "output_type": "stream",
     "text": [
      "Collecting dash\r\n",
      "  Downloading dash-2.7.1-py3-none-any.whl (9.9 MB)\r\n",
      "\u001b[2K     \u001b[90m━━━━━━━━━━━━━━━━━━━━━━━━━━━━━━━━━━━━━━━━\u001b[0m \u001b[32m9.9/9.9 MB\u001b[0m \u001b[31m39.5 MB/s\u001b[0m eta \u001b[36m0:00:00\u001b[0m\r\n",
      "\u001b[?25hCollecting dash-table==5.0.0\r\n",
      "  Downloading dash_table-5.0.0-py3-none-any.whl (3.9 kB)\r\n",
      "Requirement already satisfied: Flask>=1.0.4 in /opt/conda/lib/python3.7/site-packages (from dash) (2.2.2)\r\n",
      "Collecting dash-html-components==2.0.0\r\n",
      "  Downloading dash_html_components-2.0.0-py3-none-any.whl (4.1 kB)\r\n",
      "Requirement already satisfied: plotly>=5.0.0 in /opt/conda/lib/python3.7/site-packages (from dash) (5.11.0)\r\n",
      "Collecting dash-core-components==2.0.0\r\n",
      "  Downloading dash_core_components-2.0.0-py3-none-any.whl (3.8 kB)\r\n",
      "Requirement already satisfied: click>=8.0 in /opt/conda/lib/python3.7/site-packages (from Flask>=1.0.4->dash) (8.1.3)\r\n",
      "Requirement already satisfied: itsdangerous>=2.0 in /opt/conda/lib/python3.7/site-packages (from Flask>=1.0.4->dash) (2.1.2)\r\n",
      "Requirement already satisfied: importlib-metadata>=3.6.0 in /opt/conda/lib/python3.7/site-packages (from Flask>=1.0.4->dash) (4.13.0)\r\n",
      "Requirement already satisfied: Jinja2>=3.0 in /opt/conda/lib/python3.7/site-packages (from Flask>=1.0.4->dash) (3.1.2)\r\n",
      "Requirement already satisfied: Werkzeug>=2.2.2 in /opt/conda/lib/python3.7/site-packages (from Flask>=1.0.4->dash) (2.2.2)\r\n",
      "Requirement already satisfied: tenacity>=6.2.0 in /opt/conda/lib/python3.7/site-packages (from plotly>=5.0.0->dash) (8.0.1)\r\n",
      "Requirement already satisfied: zipp>=0.5 in /opt/conda/lib/python3.7/site-packages (from importlib-metadata>=3.6.0->Flask>=1.0.4->dash) (3.8.0)\r\n",
      "Requirement already satisfied: typing-extensions>=3.6.4 in /opt/conda/lib/python3.7/site-packages (from importlib-metadata>=3.6.0->Flask>=1.0.4->dash) (4.1.1)\r\n",
      "Requirement already satisfied: MarkupSafe>=2.0 in /opt/conda/lib/python3.7/site-packages (from Jinja2>=3.0->Flask>=1.0.4->dash) (2.1.1)\r\n",
      "Installing collected packages: dash-table, dash-html-components, dash-core-components, dash\r\n",
      "Successfully installed dash-2.7.1 dash-core-components-2.0.0 dash-html-components-2.0.0 dash-table-5.0.0\r\n",
      "\u001b[33mWARNING: Running pip as the 'root' user can result in broken permissions and conflicting behaviour with the system package manager. It is recommended to use a virtual environment instead: https://pip.pypa.io/warnings/venv\u001b[0m\u001b[33m\r\n",
      "\u001b[0mNote: you may need to restart the kernel to use updated packages.\n"
     ]
    }
   ],
   "source": [
    "pip install dash"
   ]
  },
  {
   "cell_type": "code",
   "execution_count": 3,
   "id": "16863d28",
   "metadata": {
    "execution": {
     "iopub.execute_input": "2023-01-09T15:49:19.810796Z",
     "iopub.status.busy": "2023-01-09T15:49:19.809848Z",
     "iopub.status.idle": "2023-01-09T15:49:33.112084Z",
     "shell.execute_reply": "2023-01-09T15:49:33.109992Z"
    },
    "papermill": {
     "duration": 13.321927,
     "end_time": "2023-01-09T15:49:33.115715",
     "exception": false,
     "start_time": "2023-01-09T15:49:19.793788",
     "status": "completed"
    },
    "tags": []
   },
   "outputs": [
    {
     "name": "stdout",
     "output_type": "stream",
     "text": [
      "Collecting dash-bootstrap-components\r\n",
      "  Downloading dash_bootstrap_components-1.3.0-py3-none-any.whl (220 kB)\r\n",
      "\u001b[2K     \u001b[90m━━━━━━━━━━━━━━━━━━━━━━━━━━━━━━━━━━━━━━━\u001b[0m \u001b[32m220.0/220.0 kB\u001b[0m \u001b[31m4.3 MB/s\u001b[0m eta \u001b[36m0:00:00\u001b[0m\r\n",
      "\u001b[?25hRequirement already satisfied: dash>=2.0.0 in /opt/conda/lib/python3.7/site-packages (from dash-bootstrap-components) (2.7.1)\r\n",
      "Requirement already satisfied: Flask>=1.0.4 in /opt/conda/lib/python3.7/site-packages (from dash>=2.0.0->dash-bootstrap-components) (2.2.2)\r\n",
      "Requirement already satisfied: dash-table==5.0.0 in /opt/conda/lib/python3.7/site-packages (from dash>=2.0.0->dash-bootstrap-components) (5.0.0)\r\n",
      "Requirement already satisfied: plotly>=5.0.0 in /opt/conda/lib/python3.7/site-packages (from dash>=2.0.0->dash-bootstrap-components) (5.11.0)\r\n",
      "Requirement already satisfied: dash-html-components==2.0.0 in /opt/conda/lib/python3.7/site-packages (from dash>=2.0.0->dash-bootstrap-components) (2.0.0)\r\n",
      "Requirement already satisfied: dash-core-components==2.0.0 in /opt/conda/lib/python3.7/site-packages (from dash>=2.0.0->dash-bootstrap-components) (2.0.0)\r\n",
      "Requirement already satisfied: click>=8.0 in /opt/conda/lib/python3.7/site-packages (from Flask>=1.0.4->dash>=2.0.0->dash-bootstrap-components) (8.1.3)\r\n",
      "Requirement already satisfied: itsdangerous>=2.0 in /opt/conda/lib/python3.7/site-packages (from Flask>=1.0.4->dash>=2.0.0->dash-bootstrap-components) (2.1.2)\r\n",
      "Requirement already satisfied: importlib-metadata>=3.6.0 in /opt/conda/lib/python3.7/site-packages (from Flask>=1.0.4->dash>=2.0.0->dash-bootstrap-components) (4.13.0)\r\n",
      "Requirement already satisfied: Werkzeug>=2.2.2 in /opt/conda/lib/python3.7/site-packages (from Flask>=1.0.4->dash>=2.0.0->dash-bootstrap-components) (2.2.2)\r\n",
      "Requirement already satisfied: Jinja2>=3.0 in /opt/conda/lib/python3.7/site-packages (from Flask>=1.0.4->dash>=2.0.0->dash-bootstrap-components) (3.1.2)\r\n",
      "Requirement already satisfied: tenacity>=6.2.0 in /opt/conda/lib/python3.7/site-packages (from plotly>=5.0.0->dash>=2.0.0->dash-bootstrap-components) (8.0.1)\r\n",
      "Requirement already satisfied: zipp>=0.5 in /opt/conda/lib/python3.7/site-packages (from importlib-metadata>=3.6.0->Flask>=1.0.4->dash>=2.0.0->dash-bootstrap-components) (3.8.0)\r\n",
      "Requirement already satisfied: typing-extensions>=3.6.4 in /opt/conda/lib/python3.7/site-packages (from importlib-metadata>=3.6.0->Flask>=1.0.4->dash>=2.0.0->dash-bootstrap-components) (4.1.1)\r\n",
      "Requirement already satisfied: MarkupSafe>=2.0 in /opt/conda/lib/python3.7/site-packages (from Jinja2>=3.0->Flask>=1.0.4->dash>=2.0.0->dash-bootstrap-components) (2.1.1)\r\n",
      "Installing collected packages: dash-bootstrap-components\r\n",
      "Successfully installed dash-bootstrap-components-1.3.0\r\n",
      "\u001b[33mWARNING: Running pip as the 'root' user can result in broken permissions and conflicting behaviour with the system package manager. It is recommended to use a virtual environment instead: https://pip.pypa.io/warnings/venv\u001b[0m\u001b[33m\r\n",
      "\u001b[0mNote: you may need to restart the kernel to use updated packages.\n"
     ]
    }
   ],
   "source": [
    "pip install dash-bootstrap-components"
   ]
  },
  {
   "cell_type": "code",
   "execution_count": 4,
   "id": "be00e382",
   "metadata": {
    "execution": {
     "iopub.execute_input": "2023-01-09T15:49:33.145776Z",
     "iopub.status.busy": "2023-01-09T15:49:33.145234Z",
     "iopub.status.idle": "2023-01-09T15:49:46.916006Z",
     "shell.execute_reply": "2023-01-09T15:49:46.912776Z"
    },
    "papermill": {
     "duration": 13.791191,
     "end_time": "2023-01-09T15:49:46.921502",
     "exception": false,
     "start_time": "2023-01-09T15:49:33.130311",
     "status": "completed"
    },
    "tags": []
   },
   "outputs": [
    {
     "name": "stdout",
     "output_type": "stream",
     "text": [
      "Collecting dash-bootstrap-templates\r\n",
      "  Downloading dash_bootstrap_templates-1.0.7-py3-none-any.whl (53 kB)\r\n",
      "\u001b[2K     \u001b[90m━━━━━━━━━━━━━━━━━━━━━━━━━━━━━━━━━━━━━━━━\u001b[0m \u001b[32m53.1/53.1 kB\u001b[0m \u001b[31m2.5 MB/s\u001b[0m eta \u001b[36m0:00:00\u001b[0m\r\n",
      "\u001b[?25hRequirement already satisfied: importlib-metadata>=3.4.0 in /opt/conda/lib/python3.7/site-packages (from dash-bootstrap-templates) (4.13.0)\r\n",
      "Requirement already satisfied: dash in /opt/conda/lib/python3.7/site-packages (from dash-bootstrap-templates) (2.7.1)\r\n",
      "Requirement already satisfied: importlib-resources>=5.1.0 in /opt/conda/lib/python3.7/site-packages (from dash-bootstrap-templates) (5.10.2)\r\n",
      "Requirement already satisfied: numpy in /opt/conda/lib/python3.7/site-packages (from dash-bootstrap-templates) (1.21.6)\r\n",
      "Requirement already satisfied: dash-bootstrap-components>=1.0.0 in /opt/conda/lib/python3.7/site-packages (from dash-bootstrap-templates) (1.3.0)\r\n",
      "Requirement already satisfied: dash-table==5.0.0 in /opt/conda/lib/python3.7/site-packages (from dash->dash-bootstrap-templates) (5.0.0)\r\n",
      "Requirement already satisfied: dash-html-components==2.0.0 in /opt/conda/lib/python3.7/site-packages (from dash->dash-bootstrap-templates) (2.0.0)\r\n",
      "Requirement already satisfied: plotly>=5.0.0 in /opt/conda/lib/python3.7/site-packages (from dash->dash-bootstrap-templates) (5.11.0)\r\n",
      "Requirement already satisfied: Flask>=1.0.4 in /opt/conda/lib/python3.7/site-packages (from dash->dash-bootstrap-templates) (2.2.2)\r\n",
      "Requirement already satisfied: dash-core-components==2.0.0 in /opt/conda/lib/python3.7/site-packages (from dash->dash-bootstrap-templates) (2.0.0)\r\n",
      "Requirement already satisfied: typing-extensions>=3.6.4 in /opt/conda/lib/python3.7/site-packages (from importlib-metadata>=3.4.0->dash-bootstrap-templates) (4.1.1)\r\n",
      "Requirement already satisfied: zipp>=0.5 in /opt/conda/lib/python3.7/site-packages (from importlib-metadata>=3.4.0->dash-bootstrap-templates) (3.8.0)\r\n",
      "Requirement already satisfied: click>=8.0 in /opt/conda/lib/python3.7/site-packages (from Flask>=1.0.4->dash->dash-bootstrap-templates) (8.1.3)\r\n",
      "Requirement already satisfied: Jinja2>=3.0 in /opt/conda/lib/python3.7/site-packages (from Flask>=1.0.4->dash->dash-bootstrap-templates) (3.1.2)\r\n",
      "Requirement already satisfied: Werkzeug>=2.2.2 in /opt/conda/lib/python3.7/site-packages (from Flask>=1.0.4->dash->dash-bootstrap-templates) (2.2.2)\r\n",
      "Requirement already satisfied: itsdangerous>=2.0 in /opt/conda/lib/python3.7/site-packages (from Flask>=1.0.4->dash->dash-bootstrap-templates) (2.1.2)\r\n",
      "Requirement already satisfied: tenacity>=6.2.0 in /opt/conda/lib/python3.7/site-packages (from plotly>=5.0.0->dash->dash-bootstrap-templates) (8.0.1)\r\n",
      "Requirement already satisfied: MarkupSafe>=2.0 in /opt/conda/lib/python3.7/site-packages (from Jinja2>=3.0->Flask>=1.0.4->dash->dash-bootstrap-templates) (2.1.1)\r\n",
      "Installing collected packages: dash-bootstrap-templates\r\n",
      "Successfully installed dash-bootstrap-templates-1.0.7\r\n",
      "\u001b[33mWARNING: Running pip as the 'root' user can result in broken permissions and conflicting behaviour with the system package manager. It is recommended to use a virtual environment instead: https://pip.pypa.io/warnings/venv\u001b[0m\u001b[33m\r\n",
      "\u001b[0mNote: you may need to restart the kernel to use updated packages.\n"
     ]
    }
   ],
   "source": [
    "pip install dash-bootstrap-templates -U"
   ]
  },
  {
   "cell_type": "code",
   "execution_count": 5,
   "id": "6a58bad2",
   "metadata": {
    "execution": {
     "iopub.execute_input": "2023-01-09T15:49:46.952670Z",
     "iopub.status.busy": "2023-01-09T15:49:46.952121Z",
     "iopub.status.idle": "2023-01-09T15:49:47.302340Z",
     "shell.execute_reply": "2023-01-09T15:49:47.300344Z"
    },
    "papermill": {
     "duration": 0.37072,
     "end_time": "2023-01-09T15:49:47.306297",
     "exception": false,
     "start_time": "2023-01-09T15:49:46.935577",
     "status": "completed"
    },
    "tags": []
   },
   "outputs": [],
   "source": [
    "#Restart Kernel to use updated packages\n",
    "\n",
    "%reset -f"
   ]
  },
  {
   "cell_type": "markdown",
   "id": "3ffd0d82",
   "metadata": {
    "papermill": {
     "duration": 0.014272,
     "end_time": "2023-01-09T15:49:47.335796",
     "exception": false,
     "start_time": "2023-01-09T15:49:47.321524",
     "status": "completed"
    },
    "tags": []
   },
   "source": [
    "# Import Libraries"
   ]
  },
  {
   "cell_type": "code",
   "execution_count": 6,
   "id": "6f84e0c4",
   "metadata": {
    "execution": {
     "iopub.execute_input": "2023-01-09T15:49:47.365961Z",
     "iopub.status.busy": "2023-01-09T15:49:47.365398Z",
     "iopub.status.idle": "2023-01-09T15:49:47.753899Z",
     "shell.execute_reply": "2023-01-09T15:49:47.752494Z"
    },
    "papermill": {
     "duration": 0.407221,
     "end_time": "2023-01-09T15:49:47.757011",
     "exception": false,
     "start_time": "2023-01-09T15:49:47.349790",
     "status": "completed"
    },
    "tags": []
   },
   "outputs": [
    {
     "name": "stderr",
     "output_type": "stream",
     "text": [
      "/opt/conda/lib/python3.7/site-packages/ipykernel_launcher.py:5: UserWarning: \n",
      "The dash_table package is deprecated. Please replace\n",
      "`import dash_table` with `from dash import dash_table`\n",
      "\n",
      "Also, if you're using any of the table format helpers (e.g. Group), replace \n",
      "`from dash_table.Format import Group` with \n",
      "`from dash.dash_table.Format import Group`\n",
      "  \"\"\"\n",
      "/opt/conda/lib/python3.7/site-packages/ipykernel_launcher.py:6: UserWarning: \n",
      "The dash_core_components package is deprecated. Please replace\n",
      "`import dash_core_components as dcc` with `from dash import dcc`\n",
      "  \n",
      "/opt/conda/lib/python3.7/site-packages/ipykernel_launcher.py:7: UserWarning: \n",
      "The dash_html_components package is deprecated. Please replace\n",
      "`import dash_html_components as html` with `from dash import html`\n",
      "  import sys\n"
     ]
    }
   ],
   "source": [
    "import pandas as pd\n",
    "import numpy as np\n",
    "import dash\n",
    "from dash.dependencies import Input, Output, State\n",
    "from dash_table import DataTable\n",
    "import dash_core_components as dcc\n",
    "import dash_html_components as html\n",
    "import dash_bootstrap_components as dbc\n",
    "from dash_bootstrap_templates import load_figure_template\n",
    "import plotly.graph_objects as go\n",
    "from plotly.subplots import make_subplots\n",
    "from plotly.colors import qualitative"
   ]
  },
  {
   "cell_type": "markdown",
   "id": "ccd513c1",
   "metadata": {
    "papermill": {
     "duration": 0.013625,
     "end_time": "2023-01-09T15:49:47.785365",
     "exception": false,
     "start_time": "2023-01-09T15:49:47.771740",
     "status": "completed"
    },
    "tags": []
   },
   "source": [
    "## Instantiate dash app"
   ]
  },
  {
   "cell_type": "code",
   "execution_count": 7,
   "id": "c718f0a9",
   "metadata": {
    "execution": {
     "iopub.execute_input": "2023-01-09T15:49:47.817354Z",
     "iopub.status.busy": "2023-01-09T15:49:47.816784Z",
     "iopub.status.idle": "2023-01-09T15:49:47.835167Z",
     "shell.execute_reply": "2023-01-09T15:49:47.833407Z"
    },
    "papermill": {
     "duration": 0.038796,
     "end_time": "2023-01-09T15:49:47.838171",
     "exception": false,
     "start_time": "2023-01-09T15:49:47.799375",
     "status": "completed"
    },
    "tags": []
   },
   "outputs": [],
   "source": [
    "dbc_css = (\"https://cdn.jsdelivr.net/gh/AnnMarieW/dash-bootstrap-templates@V1.0.2/dbc.min.css\")\n",
    "app = dash.Dash(__name__, \n",
    "                external_stylesheets=[dbc.themes.SUPERHERO, dbc_css]\n",
    "               )\n",
    "\n",
    "# Learn more about external stylesheets templates \n",
    "# https://dash-bootstrap-components.opensource.faculty.ai/docs/themes/\n",
    "# https://github.com/AnnMarieW/dash-bootstrap-templates\n",
    "# we are using the css theme superhero \n",
    "# Preview sample can be found here: https://dash-bootstrap-components.opensource.faculty.ai/docs/themes/explorer/"
   ]
  },
  {
   "cell_type": "markdown",
   "id": "fb9cebd2",
   "metadata": {
    "papermill": {
     "duration": 0.014262,
     "end_time": "2023-01-09T15:49:47.866492",
     "exception": false,
     "start_time": "2023-01-09T15:49:47.852230",
     "status": "completed"
    },
    "tags": []
   },
   "source": [
    "# Load Data"
   ]
  },
  {
   "cell_type": "code",
   "execution_count": 8,
   "id": "1a8834ae",
   "metadata": {
    "execution": {
     "iopub.execute_input": "2023-01-09T15:49:47.899042Z",
     "iopub.status.busy": "2023-01-09T15:49:47.898487Z",
     "iopub.status.idle": "2023-01-09T15:49:47.929729Z",
     "shell.execute_reply": "2023-01-09T15:49:47.927958Z"
    },
    "papermill": {
     "duration": 0.051838,
     "end_time": "2023-01-09T15:49:47.933167",
     "exception": false,
     "start_time": "2023-01-09T15:49:47.881329",
     "status": "completed"
    },
    "tags": []
   },
   "outputs": [],
   "source": [
    "BOX_OFFICE = pd.read_csv('/kaggle/input/mcu-movies-dataset/box_office.csv')\n",
    "RATING = pd.read_csv('/kaggle/input/mcu-movies-dataset/rating.csv')"
   ]
  },
  {
   "cell_type": "markdown",
   "id": "5f727597",
   "metadata": {
    "papermill": {
     "duration": 0.015262,
     "end_time": "2023-01-09T15:49:47.963649",
     "exception": false,
     "start_time": "2023-01-09T15:49:47.948387",
     "status": "completed"
    },
    "tags": []
   },
   "source": [
    "## Data Cleaning"
   ]
  },
  {
   "cell_type": "markdown",
   "id": "8b236345",
   "metadata": {
    "papermill": {
     "duration": 0.016062,
     "end_time": "2023-01-09T15:49:47.994784",
     "exception": false,
     "start_time": "2023-01-09T15:49:47.978722",
     "status": "completed"
    },
    "tags": []
   },
   "source": [
    "**1. BOX_OFFICE**"
   ]
  },
  {
   "cell_type": "code",
   "execution_count": 9,
   "id": "0efa900c",
   "metadata": {
    "execution": {
     "iopub.execute_input": "2023-01-09T15:49:48.026504Z",
     "iopub.status.busy": "2023-01-09T15:49:48.026041Z",
     "iopub.status.idle": "2023-01-09T15:49:48.068637Z",
     "shell.execute_reply": "2023-01-09T15:49:48.066865Z"
    },
    "papermill": {
     "duration": 0.06204,
     "end_time": "2023-01-09T15:49:48.071843",
     "exception": false,
     "start_time": "2023-01-09T15:49:48.009803",
     "status": "completed"
    },
    "tags": []
   },
   "outputs": [
    {
     "name": "stdout",
     "output_type": "stream",
     "text": [
      "<class 'pandas.core.frame.DataFrame'>\n",
      "RangeIndex: 30 entries, 0 to 29\n",
      "Data columns (total 9 columns):\n",
      " #   Column                              Non-Null Count  Dtype \n",
      "---  ------                              --------------  ----- \n",
      " 0   Phase                               30 non-null     object\n",
      " 1   Film                                30 non-null     object\n",
      " 2   U.S. release date                   30 non-null     object\n",
      " 3   Box office gross U.S. and Canada    30 non-null     int64 \n",
      " 4   Box office gross Other territories  30 non-null     int64 \n",
      " 5   Box office gross Worldwide          30 non-null     int64 \n",
      " 6   All-time ranking U.S. and Canada    30 non-null     int64 \n",
      " 7   All-time ranking Worldwide          30 non-null     int64 \n",
      " 8   Budget                              30 non-null     object\n",
      "dtypes: int64(5), object(4)\n",
      "memory usage: 2.2+ KB\n"
     ]
    }
   ],
   "source": [
    "BOX_OFFICE.info()"
   ]
  },
  {
   "cell_type": "code",
   "execution_count": 10,
   "id": "79fed136",
   "metadata": {
    "execution": {
     "iopub.execute_input": "2023-01-09T15:49:48.103223Z",
     "iopub.status.busy": "2023-01-09T15:49:48.101635Z",
     "iopub.status.idle": "2023-01-09T15:49:48.109815Z",
     "shell.execute_reply": "2023-01-09T15:49:48.108674Z"
    },
    "papermill": {
     "duration": 0.026939,
     "end_time": "2023-01-09T15:49:48.112795",
     "exception": false,
     "start_time": "2023-01-09T15:49:48.085856",
     "status": "completed"
    },
    "tags": []
   },
   "outputs": [],
   "source": [
    "# rename columns\n",
    "BOX_OFFICE.rename(columns={'U.S. release date': 'Release Date',\n",
    "                           'Box office gross U.S. and Canada': 'North America Box Office',\n",
    "                           'Box office gross Other territories': 'Other Countries Box Office', \n",
    "                           'Box office gross Worldwide': 'Worldwide Box Office',\n",
    "                           'All-time ranking U.S. and Canada': 'Ranking US',\n",
    "                           'All-time ranking Worldwide': 'Ranking Worldwide'}, \n",
    "                      inplace=True)"
   ]
  },
  {
   "cell_type": "code",
   "execution_count": 11,
   "id": "3a46007e",
   "metadata": {
    "execution": {
     "iopub.execute_input": "2023-01-09T15:49:48.143675Z",
     "iopub.status.busy": "2023-01-09T15:49:48.142689Z",
     "iopub.status.idle": "2023-01-09T15:49:48.154885Z",
     "shell.execute_reply": "2023-01-09T15:49:48.153095Z"
    },
    "papermill": {
     "duration": 0.031658,
     "end_time": "2023-01-09T15:49:48.158474",
     "exception": false,
     "start_time": "2023-01-09T15:49:48.126816",
     "status": "completed"
    },
    "tags": []
   },
   "outputs": [],
   "source": [
    "#remove '$' and replace 'million' with '000000'\n",
    "BOX_OFFICE['Budget'] = BOX_OFFICE['Budget'].str.replace('$', '', regex=True)\n",
    "\n",
    "# remove 'space'\n",
    "BOX_OFFICE['Budget'] = BOX_OFFICE['Budget'].str.replace('\\s+', '', regex=True)\n",
    "\n",
    "#remove million\n",
    "BOX_OFFICE['Budget'] = BOX_OFFICE['Budget'].str.replace('million', '000000', regex=True)\n",
    "\n",
    "#change 'Budget' column to numeric\n",
    "BOX_OFFICE['Budget'] = pd.to_numeric(BOX_OFFICE['Budget'])"
   ]
  },
  {
   "cell_type": "code",
   "execution_count": 12,
   "id": "a6ef510a",
   "metadata": {
    "execution": {
     "iopub.execute_input": "2023-01-09T15:49:48.191064Z",
     "iopub.status.busy": "2023-01-09T15:49:48.190531Z",
     "iopub.status.idle": "2023-01-09T15:49:48.205453Z",
     "shell.execute_reply": "2023-01-09T15:49:48.203691Z"
    },
    "papermill": {
     "duration": 0.035547,
     "end_time": "2023-01-09T15:49:48.208621",
     "exception": false,
     "start_time": "2023-01-09T15:49:48.173074",
     "status": "completed"
    },
    "tags": []
   },
   "outputs": [],
   "source": [
    "#change 'date' column to datetime series\n",
    "\n",
    "BOX_OFFICE['Release Date'] = pd.to_datetime(BOX_OFFICE['Release Date'])"
   ]
  },
  {
   "cell_type": "code",
   "execution_count": 13,
   "id": "951785e0",
   "metadata": {
    "execution": {
     "iopub.execute_input": "2023-01-09T15:49:48.240624Z",
     "iopub.status.busy": "2023-01-09T15:49:48.240125Z",
     "iopub.status.idle": "2023-01-09T15:49:48.258671Z",
     "shell.execute_reply": "2023-01-09T15:49:48.256862Z"
    },
    "papermill": {
     "duration": 0.038901,
     "end_time": "2023-01-09T15:49:48.261978",
     "exception": false,
     "start_time": "2023-01-09T15:49:48.223077",
     "status": "completed"
    },
    "tags": []
   },
   "outputs": [
    {
     "name": "stdout",
     "output_type": "stream",
     "text": [
      "<class 'pandas.core.frame.DataFrame'>\n",
      "RangeIndex: 30 entries, 0 to 29\n",
      "Data columns (total 9 columns):\n",
      " #   Column                      Non-Null Count  Dtype         \n",
      "---  ------                      --------------  -----         \n",
      " 0   Phase                       30 non-null     object        \n",
      " 1   Film                        30 non-null     object        \n",
      " 2   Release Date                30 non-null     datetime64[ns]\n",
      " 3   North America Box Office    30 non-null     int64         \n",
      " 4   Other Countries Box Office  30 non-null     int64         \n",
      " 5   Worldwide Box Office        30 non-null     int64         \n",
      " 6   Ranking US                  30 non-null     int64         \n",
      " 7   Ranking Worldwide           30 non-null     int64         \n",
      " 8   Budget                      30 non-null     int64         \n",
      "dtypes: datetime64[ns](1), int64(6), object(2)\n",
      "memory usage: 2.2+ KB\n"
     ]
    }
   ],
   "source": [
    "BOX_OFFICE.info()"
   ]
  },
  {
   "cell_type": "code",
   "execution_count": 14,
   "id": "de727d84",
   "metadata": {
    "execution": {
     "iopub.execute_input": "2023-01-09T15:49:48.294663Z",
     "iopub.status.busy": "2023-01-09T15:49:48.294138Z",
     "iopub.status.idle": "2023-01-09T15:49:48.320145Z",
     "shell.execute_reply": "2023-01-09T15:49:48.318317Z"
    },
    "papermill": {
     "duration": 0.04621,
     "end_time": "2023-01-09T15:49:48.323439",
     "exception": false,
     "start_time": "2023-01-09T15:49:48.277229",
     "status": "completed"
    },
    "tags": []
   },
   "outputs": [
    {
     "data": {
      "text/html": [
       "<div>\n",
       "<style scoped>\n",
       "    .dataframe tbody tr th:only-of-type {\n",
       "        vertical-align: middle;\n",
       "    }\n",
       "\n",
       "    .dataframe tbody tr th {\n",
       "        vertical-align: top;\n",
       "    }\n",
       "\n",
       "    .dataframe thead th {\n",
       "        text-align: right;\n",
       "    }\n",
       "</style>\n",
       "<table border=\"1\" class=\"dataframe\">\n",
       "  <thead>\n",
       "    <tr style=\"text-align: right;\">\n",
       "      <th></th>\n",
       "      <th>Phase</th>\n",
       "      <th>Film</th>\n",
       "      <th>Release Date</th>\n",
       "      <th>North America Box Office</th>\n",
       "      <th>Other Countries Box Office</th>\n",
       "      <th>Worldwide Box Office</th>\n",
       "      <th>Ranking US</th>\n",
       "      <th>Ranking Worldwide</th>\n",
       "      <th>Budget</th>\n",
       "    </tr>\n",
       "  </thead>\n",
       "  <tbody>\n",
       "    <tr>\n",
       "      <th>0</th>\n",
       "      <td>Phase One</td>\n",
       "      <td>Iron Man</td>\n",
       "      <td>2008-05-02</td>\n",
       "      <td>319034126</td>\n",
       "      <td>266762121</td>\n",
       "      <td>585796247</td>\n",
       "      <td>79</td>\n",
       "      <td>176</td>\n",
       "      <td>140000000</td>\n",
       "    </tr>\n",
       "    <tr>\n",
       "      <th>1</th>\n",
       "      <td>Phase One</td>\n",
       "      <td>The Incredible Hulk</td>\n",
       "      <td>2008-06-13</td>\n",
       "      <td>134806913</td>\n",
       "      <td>129964083</td>\n",
       "      <td>264770996</td>\n",
       "      <td>465</td>\n",
       "      <td>593</td>\n",
       "      <td>150000000</td>\n",
       "    </tr>\n",
       "    <tr>\n",
       "      <th>2</th>\n",
       "      <td>Phase One</td>\n",
       "      <td>Iron Man 2</td>\n",
       "      <td>2010-05-07</td>\n",
       "      <td>312433331</td>\n",
       "      <td>311500000</td>\n",
       "      <td>623933331</td>\n",
       "      <td>85</td>\n",
       "      <td>158</td>\n",
       "      <td>200000000</td>\n",
       "    </tr>\n",
       "    <tr>\n",
       "      <th>3</th>\n",
       "      <td>Phase One</td>\n",
       "      <td>Thor</td>\n",
       "      <td>2011-05-06</td>\n",
       "      <td>181030624</td>\n",
       "      <td>268295994</td>\n",
       "      <td>449326618</td>\n",
       "      <td>262</td>\n",
       "      <td>268</td>\n",
       "      <td>150000000</td>\n",
       "    </tr>\n",
       "    <tr>\n",
       "      <th>4</th>\n",
       "      <td>Phase One</td>\n",
       "      <td>Captain America: The First Avenger</td>\n",
       "      <td>2011-07-22</td>\n",
       "      <td>176654505</td>\n",
       "      <td>193915269</td>\n",
       "      <td>370569774</td>\n",
       "      <td>279</td>\n",
       "      <td>367</td>\n",
       "      <td>140000000</td>\n",
       "    </tr>\n",
       "  </tbody>\n",
       "</table>\n",
       "</div>"
      ],
      "text/plain": [
       "       Phase                                Film Release Date  \\\n",
       "0  Phase One                            Iron Man   2008-05-02   \n",
       "1  Phase One                 The Incredible Hulk   2008-06-13   \n",
       "2  Phase One                          Iron Man 2   2010-05-07   \n",
       "3  Phase One                                Thor   2011-05-06   \n",
       "4  Phase One  Captain America: The First Avenger   2011-07-22   \n",
       "\n",
       "   North America Box Office  Other Countries Box Office  Worldwide Box Office  \\\n",
       "0                 319034126                   266762121             585796247   \n",
       "1                 134806913                   129964083             264770996   \n",
       "2                 312433331                   311500000             623933331   \n",
       "3                 181030624                   268295994             449326618   \n",
       "4                 176654505                   193915269             370569774   \n",
       "\n",
       "   Ranking US  Ranking Worldwide     Budget  \n",
       "0          79                176  140000000  \n",
       "1         465                593  150000000  \n",
       "2          85                158  200000000  \n",
       "3         262                268  150000000  \n",
       "4         279                367  140000000  "
      ]
     },
     "execution_count": 14,
     "metadata": {},
     "output_type": "execute_result"
    }
   ],
   "source": [
    "BOX_OFFICE.head(5)"
   ]
  },
  {
   "cell_type": "markdown",
   "id": "4e87c134",
   "metadata": {
    "papermill": {
     "duration": 0.014135,
     "end_time": "2023-01-09T15:49:48.352679",
     "exception": false,
     "start_time": "2023-01-09T15:49:48.338544",
     "status": "completed"
    },
    "tags": []
   },
   "source": [
    "**1.1 Highest Grossing Film Worldwide**"
   ]
  },
  {
   "cell_type": "code",
   "execution_count": 15,
   "id": "768b2b4d",
   "metadata": {
    "execution": {
     "iopub.execute_input": "2023-01-09T15:49:48.383705Z",
     "iopub.status.busy": "2023-01-09T15:49:48.383228Z",
     "iopub.status.idle": "2023-01-09T15:49:48.390481Z",
     "shell.execute_reply": "2023-01-09T15:49:48.388569Z"
    },
    "papermill": {
     "duration": 0.026465,
     "end_time": "2023-01-09T15:49:48.393643",
     "exception": false,
     "start_time": "2023-01-09T15:49:48.367178",
     "status": "completed"
    },
    "tags": []
   },
   "outputs": [],
   "source": [
    "# Index the Highest Grossing Box Office\n",
    "\n",
    "Highest_Grossing = BOX_OFFICE['Worldwide Box Office'].idxmax()"
   ]
  },
  {
   "cell_type": "code",
   "execution_count": 16,
   "id": "1009b255",
   "metadata": {
    "execution": {
     "iopub.execute_input": "2023-01-09T15:49:48.424794Z",
     "iopub.status.busy": "2023-01-09T15:49:48.424280Z",
     "iopub.status.idle": "2023-01-09T15:49:48.431051Z",
     "shell.execute_reply": "2023-01-09T15:49:48.429540Z"
    },
    "papermill": {
     "duration": 0.025933,
     "end_time": "2023-01-09T15:49:48.434054",
     "exception": false,
     "start_time": "2023-01-09T15:49:48.408121",
     "status": "completed"
    },
    "tags": []
   },
   "outputs": [],
   "source": [
    "#Results of highest grossing film name and total worldwide take-in amount\n",
    "hi_gross_world= BOX_OFFICE['Film'][Highest_Grossing]\n",
    "hi_gross_box = BOX_OFFICE['Worldwide Box Office'][Highest_Grossing]"
   ]
  },
  {
   "cell_type": "code",
   "execution_count": 17,
   "id": "9b2bf649",
   "metadata": {
    "execution": {
     "iopub.execute_input": "2023-01-09T15:49:48.466522Z",
     "iopub.status.busy": "2023-01-09T15:49:48.465995Z",
     "iopub.status.idle": "2023-01-09T15:49:48.475920Z",
     "shell.execute_reply": "2023-01-09T15:49:48.473801Z"
    },
    "papermill": {
     "duration": 0.031728,
     "end_time": "2023-01-09T15:49:48.481079",
     "exception": false,
     "start_time": "2023-01-09T15:49:48.449351",
     "status": "completed"
    },
    "tags": []
   },
   "outputs": [
    {
     "name": "stdout",
     "output_type": "stream",
     "text": [
      "The Highest Grossing film is Avengers: Endgame racking worldwide box office with $2,797,800,564\n"
     ]
    }
   ],
   "source": [
    "print('The Highest Grossing film is {} racking worldwide box office with ${:,}'.format(hi_gross_world, hi_gross_box))"
   ]
  },
  {
   "cell_type": "markdown",
   "id": "512120da",
   "metadata": {
    "papermill": {
     "duration": 0.014668,
     "end_time": "2023-01-09T15:49:48.511599",
     "exception": false,
     "start_time": "2023-01-09T15:49:48.496931",
     "status": "completed"
    },
    "tags": []
   },
   "source": [
    "**1.2 Lowest Grossing Film Worldwide**"
   ]
  },
  {
   "cell_type": "code",
   "execution_count": 18,
   "id": "ade0b35c",
   "metadata": {
    "execution": {
     "iopub.execute_input": "2023-01-09T15:49:48.545411Z",
     "iopub.status.busy": "2023-01-09T15:49:48.544883Z",
     "iopub.status.idle": "2023-01-09T15:49:48.552637Z",
     "shell.execute_reply": "2023-01-09T15:49:48.551130Z"
    },
    "papermill": {
     "duration": 0.028689,
     "end_time": "2023-01-09T15:49:48.555581",
     "exception": false,
     "start_time": "2023-01-09T15:49:48.526892",
     "status": "completed"
    },
    "tags": []
   },
   "outputs": [],
   "source": [
    "# Get Index for lowest grossing film\n",
    "Lowest_Grossing = BOX_OFFICE['Worldwide Box Office'].idxmin()"
   ]
  },
  {
   "cell_type": "code",
   "execution_count": 19,
   "id": "7f2cd3ea",
   "metadata": {
    "execution": {
     "iopub.execute_input": "2023-01-09T15:49:48.586956Z",
     "iopub.status.busy": "2023-01-09T15:49:48.586400Z",
     "iopub.status.idle": "2023-01-09T15:49:48.592427Z",
     "shell.execute_reply": "2023-01-09T15:49:48.591158Z"
    },
    "papermill": {
     "duration": 0.025377,
     "end_time": "2023-01-09T15:49:48.595251",
     "exception": false,
     "start_time": "2023-01-09T15:49:48.569874",
     "status": "completed"
    },
    "tags": []
   },
   "outputs": [],
   "source": [
    "#Results of lowest grossing film name and total worldwide take-in amount\n",
    "lo_gross_world= BOX_OFFICE['Film'][Lowest_Grossing]\n",
    "lo_gross_box = BOX_OFFICE['Worldwide Box Office'][Lowest_Grossing]"
   ]
  },
  {
   "cell_type": "code",
   "execution_count": 20,
   "id": "9f151015",
   "metadata": {
    "execution": {
     "iopub.execute_input": "2023-01-09T15:49:48.629242Z",
     "iopub.status.busy": "2023-01-09T15:49:48.628708Z",
     "iopub.status.idle": "2023-01-09T15:49:48.636151Z",
     "shell.execute_reply": "2023-01-09T15:49:48.634152Z"
    },
    "papermill": {
     "duration": 0.028575,
     "end_time": "2023-01-09T15:49:48.639260",
     "exception": false,
     "start_time": "2023-01-09T15:49:48.610685",
     "status": "completed"
    },
    "tags": []
   },
   "outputs": [
    {
     "name": "stdout",
     "output_type": "stream",
     "text": [
      "The Highest Grossing film is The Incredible Hulk racking worldwide box office with $264,770,996\n"
     ]
    }
   ],
   "source": [
    "print('The Highest Grossing film is {} racking worldwide box office with ${:,}'.format(lo_gross_world, lo_gross_box))"
   ]
  },
  {
   "cell_type": "markdown",
   "id": "9a7fb097",
   "metadata": {
    "papermill": {
     "duration": 0.0144,
     "end_time": "2023-01-09T15:49:48.668365",
     "exception": false,
     "start_time": "2023-01-09T15:49:48.653965",
     "status": "completed"
    },
    "tags": []
   },
   "source": [
    "**1.3 Most Expensive MCU Film Ever Made**"
   ]
  },
  {
   "cell_type": "code",
   "execution_count": 21,
   "id": "4e90ddd4",
   "metadata": {
    "execution": {
     "iopub.execute_input": "2023-01-09T15:49:48.701732Z",
     "iopub.status.busy": "2023-01-09T15:49:48.700248Z",
     "iopub.status.idle": "2023-01-09T15:49:48.707432Z",
     "shell.execute_reply": "2023-01-09T15:49:48.706121Z"
    },
    "papermill": {
     "duration": 0.027114,
     "end_time": "2023-01-09T15:49:48.710446",
     "exception": false,
     "start_time": "2023-01-09T15:49:48.683332",
     "status": "completed"
    },
    "tags": []
   },
   "outputs": [],
   "source": [
    "# Get highest Budget Film\n",
    "\n",
    "Highest_Budget = BOX_OFFICE['Budget'].idxmax()"
   ]
  },
  {
   "cell_type": "code",
   "execution_count": 22,
   "id": "bbc9ee2b",
   "metadata": {
    "execution": {
     "iopub.execute_input": "2023-01-09T15:49:48.748184Z",
     "iopub.status.busy": "2023-01-09T15:49:48.747481Z",
     "iopub.status.idle": "2023-01-09T15:49:48.760758Z",
     "shell.execute_reply": "2023-01-09T15:49:48.759176Z"
    },
    "papermill": {
     "duration": 0.038742,
     "end_time": "2023-01-09T15:49:48.763892",
     "exception": false,
     "start_time": "2023-01-09T15:49:48.725150",
     "status": "completed"
    },
    "tags": []
   },
   "outputs": [],
   "source": [
    "#Results of highest budget film name and budget spent\n",
    "hi_budget_film= BOX_OFFICE['Film'][Highest_Budget]\n",
    "hi_budget = BOX_OFFICE['Budget'][Highest_Budget]"
   ]
  },
  {
   "cell_type": "code",
   "execution_count": 23,
   "id": "3d24fd9a",
   "metadata": {
    "execution": {
     "iopub.execute_input": "2023-01-09T15:49:48.797617Z",
     "iopub.status.busy": "2023-01-09T15:49:48.797125Z",
     "iopub.status.idle": "2023-01-09T15:49:48.804012Z",
     "shell.execute_reply": "2023-01-09T15:49:48.802631Z"
    },
    "papermill": {
     "duration": 0.028149,
     "end_time": "2023-01-09T15:49:48.807465",
     "exception": false,
     "start_time": "2023-01-09T15:49:48.779316",
     "status": "completed"
    },
    "tags": []
   },
   "outputs": [
    {
     "name": "stdout",
     "output_type": "stream",
     "text": [
      "The Most Expensive film produced to date is Avengers: Age of Ultron with and estimated gross budget of $444,000,000\n"
     ]
    }
   ],
   "source": [
    "print('The Most Expensive film produced to date is {} with and estimated gross budget of ${:,}'.format(hi_budget_film, hi_budget))"
   ]
  },
  {
   "cell_type": "markdown",
   "id": "be8a573a",
   "metadata": {
    "papermill": {
     "duration": 0.014461,
     "end_time": "2023-01-09T15:49:48.836740",
     "exception": false,
     "start_time": "2023-01-09T15:49:48.822279",
     "status": "completed"
    },
    "tags": []
   },
   "source": [
    "**2. RATING**"
   ]
  },
  {
   "cell_type": "code",
   "execution_count": 24,
   "id": "e100159f",
   "metadata": {
    "execution": {
     "iopub.execute_input": "2023-01-09T15:49:48.871208Z",
     "iopub.status.busy": "2023-01-09T15:49:48.870151Z",
     "iopub.status.idle": "2023-01-09T15:49:48.885596Z",
     "shell.execute_reply": "2023-01-09T15:49:48.884109Z"
    },
    "papermill": {
     "duration": 0.035254,
     "end_time": "2023-01-09T15:49:48.888666",
     "exception": false,
     "start_time": "2023-01-09T15:49:48.853412",
     "status": "completed"
    },
    "tags": []
   },
   "outputs": [
    {
     "name": "stdout",
     "output_type": "stream",
     "text": [
      "<class 'pandas.core.frame.DataFrame'>\n",
      "RangeIndex: 30 entries, 0 to 29\n",
      "Data columns (total 6 columns):\n",
      " #   Column                    Non-Null Count  Dtype \n",
      "---  ------                    --------------  ----- \n",
      " 0   Phase                     30 non-null     object\n",
      " 1   Film                      30 non-null     object\n",
      " 2   Critical Rotten Tomatoes  30 non-null     object\n",
      " 3   Critical Metacritic       30 non-null     object\n",
      " 4   Public CinemaScore        30 non-null     object\n",
      " 5   Public PostTrak           30 non-null     object\n",
      "dtypes: object(6)\n",
      "memory usage: 1.5+ KB\n"
     ]
    }
   ],
   "source": [
    "RATING.info()"
   ]
  },
  {
   "cell_type": "code",
   "execution_count": 25,
   "id": "e64da36e",
   "metadata": {
    "execution": {
     "iopub.execute_input": "2023-01-09T15:49:48.921249Z",
     "iopub.status.busy": "2023-01-09T15:49:48.920709Z",
     "iopub.status.idle": "2023-01-09T15:49:48.927707Z",
     "shell.execute_reply": "2023-01-09T15:49:48.926286Z"
    },
    "papermill": {
     "duration": 0.026741,
     "end_time": "2023-01-09T15:49:48.930527",
     "exception": false,
     "start_time": "2023-01-09T15:49:48.903786",
     "status": "completed"
    },
    "tags": []
   },
   "outputs": [],
   "source": [
    "# rename columns\n",
    "\n",
    "RATING.rename(columns={'Critical Rotten Tomatoes': 'Rotten Tomatoes Rating',\n",
    "                       'Critical Metacritic': 'Metacritic Rating',\n",
    "                       'Public CinemaScore': 'CinemaScore Grade',\n",
    "                       'Public PostTrak': 'PostTrak Rating', \n",
    "                       }, \n",
    "                      inplace=True)"
   ]
  },
  {
   "cell_type": "code",
   "execution_count": 26,
   "id": "99c47510",
   "metadata": {
    "execution": {
     "iopub.execute_input": "2023-01-09T15:49:48.965212Z",
     "iopub.status.busy": "2023-01-09T15:49:48.963577Z",
     "iopub.status.idle": "2023-01-09T15:49:48.973889Z",
     "shell.execute_reply": "2023-01-09T15:49:48.972333Z"
    },
    "papermill": {
     "duration": 0.030898,
     "end_time": "2023-01-09T15:49:48.976860",
     "exception": false,
     "start_time": "2023-01-09T15:49:48.945962",
     "status": "completed"
    },
    "tags": []
   },
   "outputs": [],
   "source": [
    "#remove '% (XX reviews)' in Rotten Tomatoes\n",
    "\n",
    "RATING['Rotten Tomatoes Rating'] = RATING['Rotten Tomatoes Rating'].str[:-15]\n",
    "\n",
    "# remove '% (XX reviews)' in MetaCritic\n",
    "RATING['Metacritic Rating'] = RATING['Metacritic Rating'].str[:-13]\n"
   ]
  },
  {
   "cell_type": "code",
   "execution_count": 27,
   "id": "93528b6f",
   "metadata": {
    "execution": {
     "iopub.execute_input": "2023-01-09T15:49:49.010590Z",
     "iopub.status.busy": "2023-01-09T15:49:49.009857Z",
     "iopub.status.idle": "2023-01-09T15:49:49.024873Z",
     "shell.execute_reply": "2023-01-09T15:49:49.023546Z"
    },
    "papermill": {
     "duration": 0.035464,
     "end_time": "2023-01-09T15:49:49.027484",
     "exception": false,
     "start_time": "2023-01-09T15:49:48.992020",
     "status": "completed"
    },
    "tags": []
   },
   "outputs": [
    {
     "data": {
      "text/html": [
       "<div>\n",
       "<style scoped>\n",
       "    .dataframe tbody tr th:only-of-type {\n",
       "        vertical-align: middle;\n",
       "    }\n",
       "\n",
       "    .dataframe tbody tr th {\n",
       "        vertical-align: top;\n",
       "    }\n",
       "\n",
       "    .dataframe thead th {\n",
       "        text-align: right;\n",
       "    }\n",
       "</style>\n",
       "<table border=\"1\" class=\"dataframe\">\n",
       "  <thead>\n",
       "    <tr style=\"text-align: right;\">\n",
       "      <th></th>\n",
       "      <th>Phase</th>\n",
       "      <th>Film</th>\n",
       "      <th>Rotten Tomatoes Rating</th>\n",
       "      <th>Metacritic Rating</th>\n",
       "      <th>CinemaScore Grade</th>\n",
       "      <th>PostTrak Rating</th>\n",
       "    </tr>\n",
       "  </thead>\n",
       "  <tbody>\n",
       "    <tr>\n",
       "      <th>0</th>\n",
       "      <td>Phase One</td>\n",
       "      <td>Iron Man</td>\n",
       "      <td>94</td>\n",
       "      <td>79</td>\n",
       "      <td>A</td>\n",
       "      <td>—</td>\n",
       "    </tr>\n",
       "    <tr>\n",
       "      <th>1</th>\n",
       "      <td>Phase One</td>\n",
       "      <td>The Incredible Hulk</td>\n",
       "      <td>67</td>\n",
       "      <td>61</td>\n",
       "      <td>A−</td>\n",
       "      <td>—</td>\n",
       "    </tr>\n",
       "    <tr>\n",
       "      <th>2</th>\n",
       "      <td>Phase One</td>\n",
       "      <td>Iron Man 2</td>\n",
       "      <td>71</td>\n",
       "      <td>57</td>\n",
       "      <td>A</td>\n",
       "      <td>—</td>\n",
       "    </tr>\n",
       "    <tr>\n",
       "      <th>3</th>\n",
       "      <td>Phase One</td>\n",
       "      <td>Thor</td>\n",
       "      <td>77</td>\n",
       "      <td>57</td>\n",
       "      <td>B+</td>\n",
       "      <td>—</td>\n",
       "    </tr>\n",
       "    <tr>\n",
       "      <th>4</th>\n",
       "      <td>Phase One</td>\n",
       "      <td>Captain America: The First Avenger</td>\n",
       "      <td>79</td>\n",
       "      <td>66</td>\n",
       "      <td>A−</td>\n",
       "      <td>—</td>\n",
       "    </tr>\n",
       "  </tbody>\n",
       "</table>\n",
       "</div>"
      ],
      "text/plain": [
       "       Phase                                Film Rotten Tomatoes Rating  \\\n",
       "0  Phase One                            Iron Man                     94   \n",
       "1  Phase One                 The Incredible Hulk                     67   \n",
       "2  Phase One                          Iron Man 2                     71   \n",
       "3  Phase One                                Thor                     77   \n",
       "4  Phase One  Captain America: The First Avenger                     79   \n",
       "\n",
       "  Metacritic Rating CinemaScore Grade PostTrak Rating  \n",
       "0                79                 A               —  \n",
       "1                61                A−               —  \n",
       "2                57                 A               —  \n",
       "3                57                B+               —  \n",
       "4                66                A−               —  "
      ]
     },
     "execution_count": 27,
     "metadata": {},
     "output_type": "execute_result"
    }
   ],
   "source": [
    "RATING.head(5)"
   ]
  },
  {
   "cell_type": "code",
   "execution_count": 28,
   "id": "6f9c1f80",
   "metadata": {
    "execution": {
     "iopub.execute_input": "2023-01-09T15:49:49.059276Z",
     "iopub.status.busy": "2023-01-09T15:49:49.058786Z",
     "iopub.status.idle": "2023-01-09T15:49:49.067237Z",
     "shell.execute_reply": "2023-01-09T15:49:49.065807Z"
    },
    "papermill": {
     "duration": 0.028349,
     "end_time": "2023-01-09T15:49:49.070595",
     "exception": false,
     "start_time": "2023-01-09T15:49:49.042246",
     "status": "completed"
    },
    "tags": []
   },
   "outputs": [],
   "source": [
    "#remove - and % in PostTrak\n",
    "RATING['PostTrak Rating'] = RATING['PostTrak Rating'].str.replace('—', '', regex=True)\n",
    "\n",
    "RATING['PostTrak Rating'] = RATING['PostTrak Rating'].str.replace('%', '', regex=True)"
   ]
  },
  {
   "cell_type": "code",
   "execution_count": 29,
   "id": "88568f3e",
   "metadata": {
    "execution": {
     "iopub.execute_input": "2023-01-09T15:49:49.106989Z",
     "iopub.status.busy": "2023-01-09T15:49:49.106247Z",
     "iopub.status.idle": "2023-01-09T15:49:49.114065Z",
     "shell.execute_reply": "2023-01-09T15:49:49.112792Z"
    },
    "papermill": {
     "duration": 0.029248,
     "end_time": "2023-01-09T15:49:49.117941",
     "exception": false,
     "start_time": "2023-01-09T15:49:49.088693",
     "status": "completed"
    },
    "tags": []
   },
   "outputs": [],
   "source": [
    "RATING['Rotten Tomatoes Rating'] = pd.to_numeric(RATING['Rotten Tomatoes Rating'])\n",
    "\n",
    "RATING['Metacritic Rating'] = pd.to_numeric(RATING['Metacritic Rating'])\n",
    "\n",
    "RATING['PostTrak Rating'] = pd.to_numeric(RATING['PostTrak Rating'])"
   ]
  },
  {
   "cell_type": "code",
   "execution_count": 30,
   "id": "822083fe",
   "metadata": {
    "execution": {
     "iopub.execute_input": "2023-01-09T15:49:49.151478Z",
     "iopub.status.busy": "2023-01-09T15:49:49.150970Z",
     "iopub.status.idle": "2023-01-09T15:49:49.169381Z",
     "shell.execute_reply": "2023-01-09T15:49:49.166913Z"
    },
    "papermill": {
     "duration": 0.040856,
     "end_time": "2023-01-09T15:49:49.173980",
     "exception": false,
     "start_time": "2023-01-09T15:49:49.133124",
     "status": "completed"
    },
    "tags": []
   },
   "outputs": [
    {
     "name": "stdout",
     "output_type": "stream",
     "text": [
      "<class 'pandas.core.frame.DataFrame'>\n",
      "RangeIndex: 30 entries, 0 to 29\n",
      "Data columns (total 6 columns):\n",
      " #   Column                  Non-Null Count  Dtype  \n",
      "---  ------                  --------------  -----  \n",
      " 0   Phase                   30 non-null     object \n",
      " 1   Film                    30 non-null     object \n",
      " 2   Rotten Tomatoes Rating  30 non-null     int64  \n",
      " 3   Metacritic Rating       30 non-null     int64  \n",
      " 4   CinemaScore Grade       30 non-null     object \n",
      " 5   PostTrak Rating         16 non-null     float64\n",
      "dtypes: float64(1), int64(2), object(3)\n",
      "memory usage: 1.5+ KB\n"
     ]
    }
   ],
   "source": [
    "RATING.info()"
   ]
  },
  {
   "cell_type": "code",
   "execution_count": 31,
   "id": "836a4692",
   "metadata": {
    "execution": {
     "iopub.execute_input": "2023-01-09T15:49:49.208257Z",
     "iopub.status.busy": "2023-01-09T15:49:49.207745Z",
     "iopub.status.idle": "2023-01-09T15:49:49.225952Z",
     "shell.execute_reply": "2023-01-09T15:49:49.224405Z"
    },
    "papermill": {
     "duration": 0.039537,
     "end_time": "2023-01-09T15:49:49.229074",
     "exception": false,
     "start_time": "2023-01-09T15:49:49.189537",
     "status": "completed"
    },
    "tags": []
   },
   "outputs": [
    {
     "data": {
      "text/html": [
       "<div>\n",
       "<style scoped>\n",
       "    .dataframe tbody tr th:only-of-type {\n",
       "        vertical-align: middle;\n",
       "    }\n",
       "\n",
       "    .dataframe tbody tr th {\n",
       "        vertical-align: top;\n",
       "    }\n",
       "\n",
       "    .dataframe thead th {\n",
       "        text-align: right;\n",
       "    }\n",
       "</style>\n",
       "<table border=\"1\" class=\"dataframe\">\n",
       "  <thead>\n",
       "    <tr style=\"text-align: right;\">\n",
       "      <th></th>\n",
       "      <th>Phase</th>\n",
       "      <th>Film</th>\n",
       "      <th>Rotten Tomatoes Rating</th>\n",
       "      <th>Metacritic Rating</th>\n",
       "      <th>CinemaScore Grade</th>\n",
       "      <th>PostTrak Rating</th>\n",
       "    </tr>\n",
       "  </thead>\n",
       "  <tbody>\n",
       "    <tr>\n",
       "      <th>25</th>\n",
       "      <td>Phase Four</td>\n",
       "      <td>Eternals</td>\n",
       "      <td>47</td>\n",
       "      <td>52</td>\n",
       "      <td>B</td>\n",
       "      <td>78.0</td>\n",
       "    </tr>\n",
       "    <tr>\n",
       "      <th>26</th>\n",
       "      <td>Phase Four</td>\n",
       "      <td>Spider-Man: No Way Home</td>\n",
       "      <td>93</td>\n",
       "      <td>71</td>\n",
       "      <td>A+</td>\n",
       "      <td>96.0</td>\n",
       "    </tr>\n",
       "    <tr>\n",
       "      <th>27</th>\n",
       "      <td>Phase Four</td>\n",
       "      <td>Doctor Strange in the Multiverse of Madness</td>\n",
       "      <td>74</td>\n",
       "      <td>60</td>\n",
       "      <td>B+</td>\n",
       "      <td>82.0</td>\n",
       "    </tr>\n",
       "    <tr>\n",
       "      <th>28</th>\n",
       "      <td>Phase Four</td>\n",
       "      <td>Thor: Love and Thunder</td>\n",
       "      <td>64</td>\n",
       "      <td>57</td>\n",
       "      <td>B+</td>\n",
       "      <td>77.0</td>\n",
       "    </tr>\n",
       "    <tr>\n",
       "      <th>29</th>\n",
       "      <td>Phase Four</td>\n",
       "      <td>Black Panther: Wakanda Forever</td>\n",
       "      <td>84</td>\n",
       "      <td>67</td>\n",
       "      <td>A</td>\n",
       "      <td>93.0</td>\n",
       "    </tr>\n",
       "  </tbody>\n",
       "</table>\n",
       "</div>"
      ],
      "text/plain": [
       "         Phase                                         Film  \\\n",
       "25  Phase Four                                     Eternals   \n",
       "26  Phase Four                      Spider-Man: No Way Home   \n",
       "27  Phase Four  Doctor Strange in the Multiverse of Madness   \n",
       "28  Phase Four                       Thor: Love and Thunder   \n",
       "29  Phase Four               Black Panther: Wakanda Forever   \n",
       "\n",
       "    Rotten Tomatoes Rating  Metacritic Rating CinemaScore Grade  \\\n",
       "25                      47                 52                 B   \n",
       "26                      93                 71                A+   \n",
       "27                      74                 60                B+   \n",
       "28                      64                 57                B+   \n",
       "29                      84                 67                 A   \n",
       "\n",
       "    PostTrak Rating  \n",
       "25             78.0  \n",
       "26             96.0  \n",
       "27             82.0  \n",
       "28             77.0  \n",
       "29             93.0  "
      ]
     },
     "execution_count": 31,
     "metadata": {},
     "output_type": "execute_result"
    }
   ],
   "source": [
    "RATING.tail(5)"
   ]
  },
  {
   "cell_type": "markdown",
   "id": "0ed9de31",
   "metadata": {
    "papermill": {
     "duration": 0.014499,
     "end_time": "2023-01-09T15:49:49.258642",
     "exception": false,
     "start_time": "2023-01-09T15:49:49.244143",
     "status": "completed"
    },
    "tags": []
   },
   "source": [
    "**2.1 Highest Rating Film Worldwide**"
   ]
  },
  {
   "cell_type": "code",
   "execution_count": 32,
   "id": "6d5fe455",
   "metadata": {
    "execution": {
     "iopub.execute_input": "2023-01-09T15:49:49.292260Z",
     "iopub.status.busy": "2023-01-09T15:49:49.291651Z",
     "iopub.status.idle": "2023-01-09T15:49:49.298575Z",
     "shell.execute_reply": "2023-01-09T15:49:49.296971Z"
    },
    "papermill": {
     "duration": 0.027875,
     "end_time": "2023-01-09T15:49:49.301597",
     "exception": false,
     "start_time": "2023-01-09T15:49:49.273722",
     "status": "completed"
    },
    "tags": []
   },
   "outputs": [],
   "source": [
    "# Highest Rating Film\n",
    "Highest_Rating = RATING['Rotten Tomatoes Rating'].idxmax()"
   ]
  },
  {
   "cell_type": "code",
   "execution_count": 33,
   "id": "29160f1e",
   "metadata": {
    "execution": {
     "iopub.execute_input": "2023-01-09T15:49:49.335363Z",
     "iopub.status.busy": "2023-01-09T15:49:49.334919Z",
     "iopub.status.idle": "2023-01-09T15:49:49.340427Z",
     "shell.execute_reply": "2023-01-09T15:49:49.339055Z"
    },
    "papermill": {
     "duration": 0.025326,
     "end_time": "2023-01-09T15:49:49.343256",
     "exception": false,
     "start_time": "2023-01-09T15:49:49.317930",
     "status": "completed"
    },
    "tags": []
   },
   "outputs": [],
   "source": [
    "#Results of highest rating film name and rotten tomatoes rating\n",
    "hi_rate_name= RATING['Film'][Highest_Rating]\n",
    "hi_rate_rot = RATING['Rotten Tomatoes Rating'][Highest_Rating]"
   ]
  },
  {
   "cell_type": "code",
   "execution_count": 34,
   "id": "870e89f6",
   "metadata": {
    "execution": {
     "iopub.execute_input": "2023-01-09T15:49:49.376774Z",
     "iopub.status.busy": "2023-01-09T15:49:49.376272Z",
     "iopub.status.idle": "2023-01-09T15:49:49.383793Z",
     "shell.execute_reply": "2023-01-09T15:49:49.382285Z"
    },
    "papermill": {
     "duration": 0.027415,
     "end_time": "2023-01-09T15:49:49.386728",
     "exception": false,
     "start_time": "2023-01-09T15:49:49.359313",
     "status": "completed"
    },
    "tags": []
   },
   "outputs": [
    {
     "name": "stdout",
     "output_type": "stream",
     "text": [
      "The Highest Rating film in Rotten Tomatoes is Black Panther with rating of 96%\n"
     ]
    }
   ],
   "source": [
    "print('The Highest Rating film in Rotten Tomatoes is {} with rating of {}%'.format(hi_rate_name, hi_rate_rot))"
   ]
  },
  {
   "cell_type": "markdown",
   "id": "a43f237d",
   "metadata": {
    "papermill": {
     "duration": 0.01587,
     "end_time": "2023-01-09T15:49:49.418016",
     "exception": false,
     "start_time": "2023-01-09T15:49:49.402146",
     "status": "completed"
    },
    "tags": []
   },
   "source": [
    "**2.2 Lowest Rating Film Worldwide**"
   ]
  },
  {
   "cell_type": "code",
   "execution_count": 35,
   "id": "8c2975d7",
   "metadata": {
    "execution": {
     "iopub.execute_input": "2023-01-09T15:49:49.451923Z",
     "iopub.status.busy": "2023-01-09T15:49:49.450627Z",
     "iopub.status.idle": "2023-01-09T15:49:49.457082Z",
     "shell.execute_reply": "2023-01-09T15:49:49.456092Z"
    },
    "papermill": {
     "duration": 0.026492,
     "end_time": "2023-01-09T15:49:49.459642",
     "exception": false,
     "start_time": "2023-01-09T15:49:49.433150",
     "status": "completed"
    },
    "tags": []
   },
   "outputs": [],
   "source": [
    "#Lowest Rating Film\n",
    "\n",
    "Lowest_Rating = RATING['Rotten Tomatoes Rating'].idxmin()"
   ]
  },
  {
   "cell_type": "code",
   "execution_count": 36,
   "id": "f7004f6a",
   "metadata": {
    "execution": {
     "iopub.execute_input": "2023-01-09T15:49:49.492009Z",
     "iopub.status.busy": "2023-01-09T15:49:49.491502Z",
     "iopub.status.idle": "2023-01-09T15:49:49.498510Z",
     "shell.execute_reply": "2023-01-09T15:49:49.496903Z"
    },
    "papermill": {
     "duration": 0.026813,
     "end_time": "2023-01-09T15:49:49.501403",
     "exception": false,
     "start_time": "2023-01-09T15:49:49.474590",
     "status": "completed"
    },
    "tags": []
   },
   "outputs": [],
   "source": [
    "#Results of Lowest rating film name and rotten tomatoes rating\n",
    "lo_rate_name= RATING['Film'][Lowest_Rating]\n",
    "lo_rate_rot = RATING['Rotten Tomatoes Rating'][Lowest_Rating]"
   ]
  },
  {
   "cell_type": "code",
   "execution_count": 37,
   "id": "8daaf524",
   "metadata": {
    "execution": {
     "iopub.execute_input": "2023-01-09T15:49:49.535662Z",
     "iopub.status.busy": "2023-01-09T15:49:49.534331Z",
     "iopub.status.idle": "2023-01-09T15:49:49.542895Z",
     "shell.execute_reply": "2023-01-09T15:49:49.540938Z"
    },
    "papermill": {
     "duration": 0.029575,
     "end_time": "2023-01-09T15:49:49.546278",
     "exception": false,
     "start_time": "2023-01-09T15:49:49.516703",
     "status": "completed"
    },
    "tags": []
   },
   "outputs": [
    {
     "name": "stdout",
     "output_type": "stream",
     "text": [
      "The Lowest Rating film in Rotten Tomatoes is Eternals with rating of 47%\n"
     ]
    }
   ],
   "source": [
    "print('The Lowest Rating film in Rotten Tomatoes is {} with rating of {}%'.format(lo_rate_name, lo_rate_rot))"
   ]
  },
  {
   "cell_type": "markdown",
   "id": "d03f5063",
   "metadata": {
    "papermill": {
     "duration": 0.014676,
     "end_time": "2023-01-09T15:49:49.576358",
     "exception": false,
     "start_time": "2023-01-09T15:49:49.561682",
     "status": "completed"
    },
    "tags": []
   },
   "source": [
    "**To be continue...**\n",
    "\n",
    "\n",
    "The goal of this project is to use Dash and Plotly to create an HTML interactive Dashboard "
   ]
  }
 ],
 "metadata": {
  "kernelspec": {
   "display_name": "Python 3",
   "language": "python",
   "name": "python3"
  },
  "language_info": {
   "codemirror_mode": {
    "name": "ipython",
    "version": 3
   },
   "file_extension": ".py",
   "mimetype": "text/x-python",
   "name": "python",
   "nbconvert_exporter": "python",
   "pygments_lexer": "ipython3",
   "version": "3.7.12"
  },
  "papermill": {
   "default_parameters": {},
   "duration": 59.124505,
   "end_time": "2023-01-09T15:49:50.718620",
   "environment_variables": {},
   "exception": null,
   "input_path": "__notebook__.ipynb",
   "output_path": "__notebook__.ipynb",
   "parameters": {},
   "start_time": "2023-01-09T15:48:51.594115",
   "version": "2.3.4"
  }
 },
 "nbformat": 4,
 "nbformat_minor": 5
}
