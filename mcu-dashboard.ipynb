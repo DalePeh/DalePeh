{
 "cells": [
  {
   "cell_type": "code",
   "execution_count": 1,
   "id": "0ec2f46f",
   "metadata": {
    "_cell_guid": "b1076dfc-b9ad-4769-8c92-a6c4dae69d19",
    "_uuid": "8f2839f25d086af736a60e9eeb907d3b93b6e0e5",
    "execution": {
     "iopub.execute_input": "2023-01-09T15:29:29.999624Z",
     "iopub.status.busy": "2023-01-09T15:29:29.998727Z",
     "iopub.status.idle": "2023-01-09T15:29:30.019155Z",
     "shell.execute_reply": "2023-01-09T15:29:30.017941Z"
    },
    "papermill": {
     "duration": 0.037243,
     "end_time": "2023-01-09T15:29:30.021700",
     "exception": false,
     "start_time": "2023-01-09T15:29:29.984457",
     "status": "completed"
    },
    "tags": []
   },
   "outputs": [
    {
     "name": "stdout",
     "output_type": "stream",
     "text": [
      "/kaggle/input/mcu-movies-dataset/rating.csv\n",
      "/kaggle/input/mcu-movies-dataset/box_office.csv\n",
      "/kaggle/input/mcu-movies-dataset/creators.csv\n"
     ]
    }
   ],
   "source": [
    "# This Python 3 environment comes with many helpful analytics libraries installed\n",
    "# It is defined by the kaggle/python Docker image: https://github.com/kaggle/docker-python\n",
    "# For example, here's several helpful packages to load\n",
    "\n",
    "import numpy as np # linear algebra\n",
    "import pandas as pd # data processing, CSV file I/O (e.g. pd.read_csv)\n",
    "\n",
    "# Input data files are available in the read-only \"../input/\" directory\n",
    "# For example, running this (by clicking run or pressing Shift+Enter) will list all files under the input directory\n",
    "\n",
    "import os\n",
    "for dirname, _, filenames in os.walk('/kaggle/input'):\n",
    "    for filename in filenames:\n",
    "        print(os.path.join(dirname, filename))\n",
    "\n",
    "# You can write up to 20GB to the current directory (/kaggle/working/) that gets preserved as output when you create a version using \"Save & Run All\" \n",
    "# You can also write temporary files to /kaggle/temp/, but they won't be saved outside of the current session"
   ]
  },
  {
   "cell_type": "markdown",
   "id": "ed79f67d",
   "metadata": {
    "papermill": {
     "duration": 0.010333,
     "end_time": "2023-01-09T15:29:30.042645",
     "exception": false,
     "start_time": "2023-01-09T15:29:30.032312",
     "status": "completed"
    },
    "tags": []
   },
   "source": [
    "# Install Dash\n",
    "- Dash Bootstrap Components\n",
    "- Dash Bootstrap Templates\n",
    "\n",
    "**Note: After installation, RESTART KERNEL**"
   ]
  },
  {
   "cell_type": "code",
   "execution_count": 2,
   "id": "1ca22a01",
   "metadata": {
    "execution": {
     "iopub.execute_input": "2023-01-09T15:29:30.067087Z",
     "iopub.status.busy": "2023-01-09T15:29:30.066672Z",
     "iopub.status.idle": "2023-01-09T15:29:45.272340Z",
     "shell.execute_reply": "2023-01-09T15:29:45.270153Z"
    },
    "papermill": {
     "duration": 15.222403,
     "end_time": "2023-01-09T15:29:45.275491",
     "exception": false,
     "start_time": "2023-01-09T15:29:30.053088",
     "status": "completed"
    },
    "tags": []
   },
   "outputs": [
    {
     "name": "stdout",
     "output_type": "stream",
     "text": [
      "Collecting dash\r\n",
      "  Downloading dash-2.7.1-py3-none-any.whl (9.9 MB)\r\n",
      "\u001b[2K     \u001b[90m━━━━━━━━━━━━━━━━━━━━━━━━━━━━━━━━━━━━━━━━\u001b[0m \u001b[32m9.9/9.9 MB\u001b[0m \u001b[31m42.4 MB/s\u001b[0m eta \u001b[36m0:00:00\u001b[0m\r\n",
      "\u001b[?25hCollecting dash-core-components==2.0.0\r\n",
      "  Downloading dash_core_components-2.0.0-py3-none-any.whl (3.8 kB)\r\n",
      "Collecting dash-html-components==2.0.0\r\n",
      "  Downloading dash_html_components-2.0.0-py3-none-any.whl (4.1 kB)\r\n",
      "Collecting dash-table==5.0.0\r\n",
      "  Downloading dash_table-5.0.0-py3-none-any.whl (3.9 kB)\r\n",
      "Requirement already satisfied: plotly>=5.0.0 in /opt/conda/lib/python3.7/site-packages (from dash) (5.11.0)\r\n",
      "Requirement already satisfied: Flask>=1.0.4 in /opt/conda/lib/python3.7/site-packages (from dash) (2.2.2)\r\n",
      "Requirement already satisfied: importlib-metadata>=3.6.0 in /opt/conda/lib/python3.7/site-packages (from Flask>=1.0.4->dash) (4.13.0)\r\n",
      "Requirement already satisfied: Werkzeug>=2.2.2 in /opt/conda/lib/python3.7/site-packages (from Flask>=1.0.4->dash) (2.2.2)\r\n",
      "Requirement already satisfied: Jinja2>=3.0 in /opt/conda/lib/python3.7/site-packages (from Flask>=1.0.4->dash) (3.1.2)\r\n",
      "Requirement already satisfied: click>=8.0 in /opt/conda/lib/python3.7/site-packages (from Flask>=1.0.4->dash) (8.1.3)\r\n",
      "Requirement already satisfied: itsdangerous>=2.0 in /opt/conda/lib/python3.7/site-packages (from Flask>=1.0.4->dash) (2.1.2)\r\n",
      "Requirement already satisfied: tenacity>=6.2.0 in /opt/conda/lib/python3.7/site-packages (from plotly>=5.0.0->dash) (8.0.1)\r\n",
      "Requirement already satisfied: typing-extensions>=3.6.4 in /opt/conda/lib/python3.7/site-packages (from importlib-metadata>=3.6.0->Flask>=1.0.4->dash) (4.1.1)\r\n",
      "Requirement already satisfied: zipp>=0.5 in /opt/conda/lib/python3.7/site-packages (from importlib-metadata>=3.6.0->Flask>=1.0.4->dash) (3.8.0)\r\n",
      "Requirement already satisfied: MarkupSafe>=2.0 in /opt/conda/lib/python3.7/site-packages (from Jinja2>=3.0->Flask>=1.0.4->dash) (2.1.1)\r\n",
      "Installing collected packages: dash-table, dash-html-components, dash-core-components, dash\r\n",
      "Successfully installed dash-2.7.1 dash-core-components-2.0.0 dash-html-components-2.0.0 dash-table-5.0.0\r\n",
      "\u001b[33mWARNING: Running pip as the 'root' user can result in broken permissions and conflicting behaviour with the system package manager. It is recommended to use a virtual environment instead: https://pip.pypa.io/warnings/venv\u001b[0m\u001b[33m\r\n",
      "\u001b[0mNote: you may need to restart the kernel to use updated packages.\n"
     ]
    }
   ],
   "source": [
    "pip install dash"
   ]
  },
  {
   "cell_type": "code",
   "execution_count": 3,
   "id": "651e5c47",
   "metadata": {
    "execution": {
     "iopub.execute_input": "2023-01-09T15:29:45.301092Z",
     "iopub.status.busy": "2023-01-09T15:29:45.300625Z",
     "iopub.status.idle": "2023-01-09T15:29:57.392404Z",
     "shell.execute_reply": "2023-01-09T15:29:57.390506Z"
    },
    "papermill": {
     "duration": 12.107927,
     "end_time": "2023-01-09T15:29:57.395353",
     "exception": false,
     "start_time": "2023-01-09T15:29:45.287426",
     "status": "completed"
    },
    "tags": []
   },
   "outputs": [
    {
     "name": "stdout",
     "output_type": "stream",
     "text": [
      "Collecting dash-bootstrap-components\r\n",
      "  Downloading dash_bootstrap_components-1.3.0-py3-none-any.whl (220 kB)\r\n",
      "\u001b[2K     \u001b[90m━━━━━━━━━━━━━━━━━━━━━━━━━━━━━━━━━━━━━━━\u001b[0m \u001b[32m220.0/220.0 kB\u001b[0m \u001b[31m4.4 MB/s\u001b[0m eta \u001b[36m0:00:00\u001b[0m\r\n",
      "\u001b[?25hRequirement already satisfied: dash>=2.0.0 in /opt/conda/lib/python3.7/site-packages (from dash-bootstrap-components) (2.7.1)\r\n",
      "Requirement already satisfied: dash-table==5.0.0 in /opt/conda/lib/python3.7/site-packages (from dash>=2.0.0->dash-bootstrap-components) (5.0.0)\r\n",
      "Requirement already satisfied: dash-html-components==2.0.0 in /opt/conda/lib/python3.7/site-packages (from dash>=2.0.0->dash-bootstrap-components) (2.0.0)\r\n",
      "Requirement already satisfied: plotly>=5.0.0 in /opt/conda/lib/python3.7/site-packages (from dash>=2.0.0->dash-bootstrap-components) (5.11.0)\r\n",
      "Requirement already satisfied: dash-core-components==2.0.0 in /opt/conda/lib/python3.7/site-packages (from dash>=2.0.0->dash-bootstrap-components) (2.0.0)\r\n",
      "Requirement already satisfied: Flask>=1.0.4 in /opt/conda/lib/python3.7/site-packages (from dash>=2.0.0->dash-bootstrap-components) (2.2.2)\r\n",
      "Requirement already satisfied: Werkzeug>=2.2.2 in /opt/conda/lib/python3.7/site-packages (from Flask>=1.0.4->dash>=2.0.0->dash-bootstrap-components) (2.2.2)\r\n",
      "Requirement already satisfied: importlib-metadata>=3.6.0 in /opt/conda/lib/python3.7/site-packages (from Flask>=1.0.4->dash>=2.0.0->dash-bootstrap-components) (4.13.0)\r\n",
      "Requirement already satisfied: Jinja2>=3.0 in /opt/conda/lib/python3.7/site-packages (from Flask>=1.0.4->dash>=2.0.0->dash-bootstrap-components) (3.1.2)\r\n",
      "Requirement already satisfied: click>=8.0 in /opt/conda/lib/python3.7/site-packages (from Flask>=1.0.4->dash>=2.0.0->dash-bootstrap-components) (8.1.3)\r\n",
      "Requirement already satisfied: itsdangerous>=2.0 in /opt/conda/lib/python3.7/site-packages (from Flask>=1.0.4->dash>=2.0.0->dash-bootstrap-components) (2.1.2)\r\n",
      "Requirement already satisfied: tenacity>=6.2.0 in /opt/conda/lib/python3.7/site-packages (from plotly>=5.0.0->dash>=2.0.0->dash-bootstrap-components) (8.0.1)\r\n",
      "Requirement already satisfied: zipp>=0.5 in /opt/conda/lib/python3.7/site-packages (from importlib-metadata>=3.6.0->Flask>=1.0.4->dash>=2.0.0->dash-bootstrap-components) (3.8.0)\r\n",
      "Requirement already satisfied: typing-extensions>=3.6.4 in /opt/conda/lib/python3.7/site-packages (from importlib-metadata>=3.6.0->Flask>=1.0.4->dash>=2.0.0->dash-bootstrap-components) (4.1.1)\r\n",
      "Requirement already satisfied: MarkupSafe>=2.0 in /opt/conda/lib/python3.7/site-packages (from Jinja2>=3.0->Flask>=1.0.4->dash>=2.0.0->dash-bootstrap-components) (2.1.1)\r\n",
      "Installing collected packages: dash-bootstrap-components\r\n",
      "Successfully installed dash-bootstrap-components-1.3.0\r\n",
      "\u001b[33mWARNING: Running pip as the 'root' user can result in broken permissions and conflicting behaviour with the system package manager. It is recommended to use a virtual environment instead: https://pip.pypa.io/warnings/venv\u001b[0m\u001b[33m\r\n",
      "\u001b[0mNote: you may need to restart the kernel to use updated packages.\n"
     ]
    }
   ],
   "source": [
    "pip install dash-bootstrap-components"
   ]
  },
  {
   "cell_type": "code",
   "execution_count": 4,
   "id": "512f347f",
   "metadata": {
    "execution": {
     "iopub.execute_input": "2023-01-09T15:29:57.421900Z",
     "iopub.status.busy": "2023-01-09T15:29:57.421447Z",
     "iopub.status.idle": "2023-01-09T15:30:09.578481Z",
     "shell.execute_reply": "2023-01-09T15:30:09.576689Z"
    },
    "papermill": {
     "duration": 12.173876,
     "end_time": "2023-01-09T15:30:09.581281",
     "exception": false,
     "start_time": "2023-01-09T15:29:57.407405",
     "status": "completed"
    },
    "tags": []
   },
   "outputs": [
    {
     "name": "stdout",
     "output_type": "stream",
     "text": [
      "Collecting dash-bootstrap-templates\r\n",
      "  Downloading dash_bootstrap_templates-1.0.7-py3-none-any.whl (53 kB)\r\n",
      "\u001b[2K     \u001b[90m━━━━━━━━━━━━━━━━━━━━━━━━━━━━━━━━━━━━━━━━\u001b[0m \u001b[32m53.1/53.1 kB\u001b[0m \u001b[31m1.7 MB/s\u001b[0m eta \u001b[36m0:00:00\u001b[0m\r\n",
      "\u001b[?25hRequirement already satisfied: dash in /opt/conda/lib/python3.7/site-packages (from dash-bootstrap-templates) (2.7.1)\r\n",
      "Requirement already satisfied: importlib-resources>=5.1.0 in /opt/conda/lib/python3.7/site-packages (from dash-bootstrap-templates) (5.10.2)\r\n",
      "Requirement already satisfied: dash-bootstrap-components>=1.0.0 in /opt/conda/lib/python3.7/site-packages (from dash-bootstrap-templates) (1.3.0)\r\n",
      "Requirement already satisfied: importlib-metadata>=3.4.0 in /opt/conda/lib/python3.7/site-packages (from dash-bootstrap-templates) (4.13.0)\r\n",
      "Requirement already satisfied: numpy in /opt/conda/lib/python3.7/site-packages (from dash-bootstrap-templates) (1.21.6)\r\n",
      "Requirement already satisfied: plotly>=5.0.0 in /opt/conda/lib/python3.7/site-packages (from dash->dash-bootstrap-templates) (5.11.0)\r\n",
      "Requirement already satisfied: dash-html-components==2.0.0 in /opt/conda/lib/python3.7/site-packages (from dash->dash-bootstrap-templates) (2.0.0)\r\n",
      "Requirement already satisfied: dash-core-components==2.0.0 in /opt/conda/lib/python3.7/site-packages (from dash->dash-bootstrap-templates) (2.0.0)\r\n",
      "Requirement already satisfied: Flask>=1.0.4 in /opt/conda/lib/python3.7/site-packages (from dash->dash-bootstrap-templates) (2.2.2)\r\n",
      "Requirement already satisfied: dash-table==5.0.0 in /opt/conda/lib/python3.7/site-packages (from dash->dash-bootstrap-templates) (5.0.0)\r\n",
      "Requirement already satisfied: zipp>=0.5 in /opt/conda/lib/python3.7/site-packages (from importlib-metadata>=3.4.0->dash-bootstrap-templates) (3.8.0)\r\n",
      "Requirement already satisfied: typing-extensions>=3.6.4 in /opt/conda/lib/python3.7/site-packages (from importlib-metadata>=3.4.0->dash-bootstrap-templates) (4.1.1)\r\n",
      "Requirement already satisfied: Jinja2>=3.0 in /opt/conda/lib/python3.7/site-packages (from Flask>=1.0.4->dash->dash-bootstrap-templates) (3.1.2)\r\n",
      "Requirement already satisfied: Werkzeug>=2.2.2 in /opt/conda/lib/python3.7/site-packages (from Flask>=1.0.4->dash->dash-bootstrap-templates) (2.2.2)\r\n",
      "Requirement already satisfied: itsdangerous>=2.0 in /opt/conda/lib/python3.7/site-packages (from Flask>=1.0.4->dash->dash-bootstrap-templates) (2.1.2)\r\n",
      "Requirement already satisfied: click>=8.0 in /opt/conda/lib/python3.7/site-packages (from Flask>=1.0.4->dash->dash-bootstrap-templates) (8.1.3)\r\n",
      "Requirement already satisfied: tenacity>=6.2.0 in /opt/conda/lib/python3.7/site-packages (from plotly>=5.0.0->dash->dash-bootstrap-templates) (8.0.1)\r\n",
      "Requirement already satisfied: MarkupSafe>=2.0 in /opt/conda/lib/python3.7/site-packages (from Jinja2>=3.0->Flask>=1.0.4->dash->dash-bootstrap-templates) (2.1.1)\r\n",
      "Installing collected packages: dash-bootstrap-templates\r\n",
      "Successfully installed dash-bootstrap-templates-1.0.7\r\n",
      "\u001b[33mWARNING: Running pip as the 'root' user can result in broken permissions and conflicting behaviour with the system package manager. It is recommended to use a virtual environment instead: https://pip.pypa.io/warnings/venv\u001b[0m\u001b[33m\r\n",
      "\u001b[0mNote: you may need to restart the kernel to use updated packages.\n"
     ]
    }
   ],
   "source": [
    "pip install dash-bootstrap-templates -U"
   ]
  },
  {
   "cell_type": "code",
   "execution_count": 5,
   "id": "4e7a4068",
   "metadata": {
    "execution": {
     "iopub.execute_input": "2023-01-09T15:30:09.608016Z",
     "iopub.status.busy": "2023-01-09T15:30:09.607537Z",
     "iopub.status.idle": "2023-01-09T15:30:09.859187Z",
     "shell.execute_reply": "2023-01-09T15:30:09.858322Z"
    },
    "papermill": {
     "duration": 0.268237,
     "end_time": "2023-01-09T15:30:09.861874",
     "exception": false,
     "start_time": "2023-01-09T15:30:09.593637",
     "status": "completed"
    },
    "tags": []
   },
   "outputs": [],
   "source": [
    "#Restart Kernel to use updated packages\n",
    "\n",
    "%reset -f"
   ]
  },
  {
   "cell_type": "markdown",
   "id": "983ad4e6",
   "metadata": {
    "papermill": {
     "duration": 0.011863,
     "end_time": "2023-01-09T15:30:09.886119",
     "exception": false,
     "start_time": "2023-01-09T15:30:09.874256",
     "status": "completed"
    },
    "tags": []
   },
   "source": [
    "# Import Libraries"
   ]
  },
  {
   "cell_type": "code",
   "execution_count": 6,
   "id": "f4b36932",
   "metadata": {
    "execution": {
     "iopub.execute_input": "2023-01-09T15:30:09.913979Z",
     "iopub.status.busy": "2023-01-09T15:30:09.913555Z",
     "iopub.status.idle": "2023-01-09T15:30:10.265973Z",
     "shell.execute_reply": "2023-01-09T15:30:10.264705Z"
    },
    "papermill": {
     "duration": 0.371401,
     "end_time": "2023-01-09T15:30:10.269951",
     "exception": false,
     "start_time": "2023-01-09T15:30:09.898550",
     "status": "completed"
    },
    "tags": []
   },
   "outputs": [
    {
     "name": "stderr",
     "output_type": "stream",
     "text": [
      "/opt/conda/lib/python3.7/site-packages/ipykernel_launcher.py:5: UserWarning: \n",
      "The dash_table package is deprecated. Please replace\n",
      "`import dash_table` with `from dash import dash_table`\n",
      "\n",
      "Also, if you're using any of the table format helpers (e.g. Group), replace \n",
      "`from dash_table.Format import Group` with \n",
      "`from dash.dash_table.Format import Group`\n",
      "  \"\"\"\n",
      "/opt/conda/lib/python3.7/site-packages/ipykernel_launcher.py:6: UserWarning: \n",
      "The dash_core_components package is deprecated. Please replace\n",
      "`import dash_core_components as dcc` with `from dash import dcc`\n",
      "  \n",
      "/opt/conda/lib/python3.7/site-packages/ipykernel_launcher.py:7: UserWarning: \n",
      "The dash_html_components package is deprecated. Please replace\n",
      "`import dash_html_components as html` with `from dash import html`\n",
      "  import sys\n"
     ]
    }
   ],
   "source": [
    "import pandas as pd\n",
    "import numpy as np\n",
    "import dash\n",
    "from dash.dependencies import Input, Output, State\n",
    "from dash_table import DataTable\n",
    "import dash_core_components as dcc\n",
    "import dash_html_components as html\n",
    "import dash_bootstrap_components as dbc\n",
    "from dash_bootstrap_templates import load_figure_template\n",
    "import plotly.graph_objects as go\n",
    "from plotly.subplots import make_subplots\n",
    "from plotly.colors import qualitative"
   ]
  },
  {
   "cell_type": "markdown",
   "id": "ec4303d5",
   "metadata": {
    "papermill": {
     "duration": 0.012854,
     "end_time": "2023-01-09T15:30:10.296409",
     "exception": false,
     "start_time": "2023-01-09T15:30:10.283555",
     "status": "completed"
    },
    "tags": []
   },
   "source": [
    "### Instantiate dash app"
   ]
  },
  {
   "cell_type": "code",
   "execution_count": 7,
   "id": "f3e59e7d",
   "metadata": {
    "execution": {
     "iopub.execute_input": "2023-01-09T15:30:10.324975Z",
     "iopub.status.busy": "2023-01-09T15:30:10.324514Z",
     "iopub.status.idle": "2023-01-09T15:30:10.340479Z",
     "shell.execute_reply": "2023-01-09T15:30:10.339152Z"
    },
    "papermill": {
     "duration": 0.03389,
     "end_time": "2023-01-09T15:30:10.343080",
     "exception": false,
     "start_time": "2023-01-09T15:30:10.309190",
     "status": "completed"
    },
    "tags": []
   },
   "outputs": [],
   "source": [
    "dbc_css = (\"https://cdn.jsdelivr.net/gh/AnnMarieW/dash-bootstrap-templates@V1.0.2/dbc.min.css\")\n",
    "app = dash.Dash(__name__, \n",
    "                external_stylesheets=[dbc.themes.SUPERHERO, dbc_css]\n",
    "               )\n",
    "\n",
    "# Learn more about external stylesheets templates \n",
    "# https://dash-bootstrap-components.opensource.faculty.ai/docs/themes/\n",
    "# https://github.com/AnnMarieW/dash-bootstrap-templates\n",
    "# we are using the css theme superhero \n",
    "# Preview sample can be found here: https://dash-bootstrap-components.opensource.faculty.ai/docs/themes/explorer/"
   ]
  },
  {
   "cell_type": "markdown",
   "id": "f50eacf3",
   "metadata": {
    "papermill": {
     "duration": 0.0122,
     "end_time": "2023-01-09T15:30:10.368198",
     "exception": false,
     "start_time": "2023-01-09T15:30:10.355998",
     "status": "completed"
    },
    "tags": []
   },
   "source": [
    "## Load Data"
   ]
  },
  {
   "cell_type": "code",
   "execution_count": 8,
   "id": "79b48d97",
   "metadata": {
    "execution": {
     "iopub.execute_input": "2023-01-09T15:30:10.395405Z",
     "iopub.status.busy": "2023-01-09T15:30:10.394954Z",
     "iopub.status.idle": "2023-01-09T15:30:10.425546Z",
     "shell.execute_reply": "2023-01-09T15:30:10.424529Z"
    },
    "papermill": {
     "duration": 0.047442,
     "end_time": "2023-01-09T15:30:10.428435",
     "exception": false,
     "start_time": "2023-01-09T15:30:10.380993",
     "status": "completed"
    },
    "tags": []
   },
   "outputs": [],
   "source": [
    "BOX_OFFICE = pd.read_csv('/kaggle/input/mcu-movies-dataset/box_office.csv')\n",
    "RATING = pd.read_csv('/kaggle/input/mcu-movies-dataset/rating.csv')"
   ]
  },
  {
   "cell_type": "markdown",
   "id": "48acdd28",
   "metadata": {
    "papermill": {
     "duration": 0.013284,
     "end_time": "2023-01-09T15:30:10.455154",
     "exception": false,
     "start_time": "2023-01-09T15:30:10.441870",
     "status": "completed"
    },
    "tags": []
   },
   "source": [
    "#### Data Cleaning"
   ]
  },
  {
   "cell_type": "markdown",
   "id": "284c61cf",
   "metadata": {
    "papermill": {
     "duration": 0.012164,
     "end_time": "2023-01-09T15:30:10.479975",
     "exception": false,
     "start_time": "2023-01-09T15:30:10.467811",
     "status": "completed"
    },
    "tags": []
   },
   "source": [
    "**1. BOX_OFFICE**"
   ]
  },
  {
   "cell_type": "code",
   "execution_count": 9,
   "id": "9029c76f",
   "metadata": {
    "execution": {
     "iopub.execute_input": "2023-01-09T15:30:10.507595Z",
     "iopub.status.busy": "2023-01-09T15:30:10.506645Z",
     "iopub.status.idle": "2023-01-09T15:30:10.537977Z",
     "shell.execute_reply": "2023-01-09T15:30:10.536388Z"
    },
    "papermill": {
     "duration": 0.048051,
     "end_time": "2023-01-09T15:30:10.540764",
     "exception": false,
     "start_time": "2023-01-09T15:30:10.492713",
     "status": "completed"
    },
    "tags": []
   },
   "outputs": [
    {
     "name": "stdout",
     "output_type": "stream",
     "text": [
      "<class 'pandas.core.frame.DataFrame'>\n",
      "RangeIndex: 30 entries, 0 to 29\n",
      "Data columns (total 9 columns):\n",
      " #   Column                              Non-Null Count  Dtype \n",
      "---  ------                              --------------  ----- \n",
      " 0   Phase                               30 non-null     object\n",
      " 1   Film                                30 non-null     object\n",
      " 2   U.S. release date                   30 non-null     object\n",
      " 3   Box office gross U.S. and Canada    30 non-null     int64 \n",
      " 4   Box office gross Other territories  30 non-null     int64 \n",
      " 5   Box office gross Worldwide          30 non-null     int64 \n",
      " 6   All-time ranking U.S. and Canada    30 non-null     int64 \n",
      " 7   All-time ranking Worldwide          30 non-null     int64 \n",
      " 8   Budget                              30 non-null     object\n",
      "dtypes: int64(5), object(4)\n",
      "memory usage: 2.2+ KB\n"
     ]
    }
   ],
   "source": [
    "BOX_OFFICE.info()"
   ]
  },
  {
   "cell_type": "code",
   "execution_count": 10,
   "id": "8fa79b57",
   "metadata": {
    "execution": {
     "iopub.execute_input": "2023-01-09T15:30:10.568726Z",
     "iopub.status.busy": "2023-01-09T15:30:10.567765Z",
     "iopub.status.idle": "2023-01-09T15:30:10.574541Z",
     "shell.execute_reply": "2023-01-09T15:30:10.573570Z"
    },
    "papermill": {
     "duration": 0.023236,
     "end_time": "2023-01-09T15:30:10.576856",
     "exception": false,
     "start_time": "2023-01-09T15:30:10.553620",
     "status": "completed"
    },
    "tags": []
   },
   "outputs": [],
   "source": [
    "# rename columns\n",
    "BOX_OFFICE.rename(columns={'U.S. release date': 'Release Date',\n",
    "                           'Box office gross U.S. and Canada': 'North America Box Office',\n",
    "                           'Box office gross Other territories': 'Other Countries Box Office', \n",
    "                           'Box office gross Worldwide': 'Worldwide Box Office',\n",
    "                           'All-time ranking U.S. and Canada': 'Ranking US',\n",
    "                           'All-time ranking Worldwide': 'Ranking Worldwide'}, \n",
    "                      inplace=True)"
   ]
  },
  {
   "cell_type": "code",
   "execution_count": 11,
   "id": "206aafa0",
   "metadata": {
    "execution": {
     "iopub.execute_input": "2023-01-09T15:30:10.604665Z",
     "iopub.status.busy": "2023-01-09T15:30:10.603260Z",
     "iopub.status.idle": "2023-01-09T15:30:10.614154Z",
     "shell.execute_reply": "2023-01-09T15:30:10.613161Z"
    },
    "papermill": {
     "duration": 0.027577,
     "end_time": "2023-01-09T15:30:10.616946",
     "exception": false,
     "start_time": "2023-01-09T15:30:10.589369",
     "status": "completed"
    },
    "tags": []
   },
   "outputs": [],
   "source": [
    "#remove '$' and replace 'million' with '000000'\n",
    "BOX_OFFICE['Budget'] = BOX_OFFICE['Budget'].str.replace('$', '', regex=True)\n",
    "\n",
    "# remove 'space'\n",
    "BOX_OFFICE['Budget'] = BOX_OFFICE['Budget'].str.replace('\\s+', '', regex=True)\n",
    "\n",
    "#remove million\n",
    "BOX_OFFICE['Budget'] = BOX_OFFICE['Budget'].str.replace('million', '000000', regex=True)\n",
    "\n",
    "#change 'Budget' column to numeric\n",
    "BOX_OFFICE['Budget'] = pd.to_numeric(BOX_OFFICE['Budget'])"
   ]
  },
  {
   "cell_type": "code",
   "execution_count": 12,
   "id": "6824713e",
   "metadata": {
    "execution": {
     "iopub.execute_input": "2023-01-09T15:30:10.644156Z",
     "iopub.status.busy": "2023-01-09T15:30:10.643311Z",
     "iopub.status.idle": "2023-01-09T15:30:10.655748Z",
     "shell.execute_reply": "2023-01-09T15:30:10.654681Z"
    },
    "papermill": {
     "duration": 0.029184,
     "end_time": "2023-01-09T15:30:10.658598",
     "exception": false,
     "start_time": "2023-01-09T15:30:10.629414",
     "status": "completed"
    },
    "tags": []
   },
   "outputs": [],
   "source": [
    "#change 'date' column to datetime series\n",
    "\n",
    "BOX_OFFICE['Release Date'] = pd.to_datetime(BOX_OFFICE['Release Date'])"
   ]
  },
  {
   "cell_type": "code",
   "execution_count": 13,
   "id": "6d696710",
   "metadata": {
    "execution": {
     "iopub.execute_input": "2023-01-09T15:30:10.686210Z",
     "iopub.status.busy": "2023-01-09T15:30:10.685371Z",
     "iopub.status.idle": "2023-01-09T15:30:10.700139Z",
     "shell.execute_reply": "2023-01-09T15:30:10.698524Z"
    },
    "papermill": {
     "duration": 0.032281,
     "end_time": "2023-01-09T15:30:10.703464",
     "exception": false,
     "start_time": "2023-01-09T15:30:10.671183",
     "status": "completed"
    },
    "tags": []
   },
   "outputs": [
    {
     "name": "stdout",
     "output_type": "stream",
     "text": [
      "<class 'pandas.core.frame.DataFrame'>\n",
      "RangeIndex: 30 entries, 0 to 29\n",
      "Data columns (total 9 columns):\n",
      " #   Column                      Non-Null Count  Dtype         \n",
      "---  ------                      --------------  -----         \n",
      " 0   Phase                       30 non-null     object        \n",
      " 1   Film                        30 non-null     object        \n",
      " 2   Release Date                30 non-null     datetime64[ns]\n",
      " 3   North America Box Office    30 non-null     int64         \n",
      " 4   Other Countries Box Office  30 non-null     int64         \n",
      " 5   Worldwide Box Office        30 non-null     int64         \n",
      " 6   Ranking US                  30 non-null     int64         \n",
      " 7   Ranking Worldwide           30 non-null     int64         \n",
      " 8   Budget                      30 non-null     int64         \n",
      "dtypes: datetime64[ns](1), int64(6), object(2)\n",
      "memory usage: 2.2+ KB\n"
     ]
    }
   ],
   "source": [
    "BOX_OFFICE.info()"
   ]
  },
  {
   "cell_type": "code",
   "execution_count": 14,
   "id": "e45a77d8",
   "metadata": {
    "execution": {
     "iopub.execute_input": "2023-01-09T15:30:10.731972Z",
     "iopub.status.busy": "2023-01-09T15:30:10.731507Z",
     "iopub.status.idle": "2023-01-09T15:30:10.752271Z",
     "shell.execute_reply": "2023-01-09T15:30:10.751318Z"
    },
    "papermill": {
     "duration": 0.038222,
     "end_time": "2023-01-09T15:30:10.754618",
     "exception": false,
     "start_time": "2023-01-09T15:30:10.716396",
     "status": "completed"
    },
    "tags": []
   },
   "outputs": [
    {
     "data": {
      "text/html": [
       "<div>\n",
       "<style scoped>\n",
       "    .dataframe tbody tr th:only-of-type {\n",
       "        vertical-align: middle;\n",
       "    }\n",
       "\n",
       "    .dataframe tbody tr th {\n",
       "        vertical-align: top;\n",
       "    }\n",
       "\n",
       "    .dataframe thead th {\n",
       "        text-align: right;\n",
       "    }\n",
       "</style>\n",
       "<table border=\"1\" class=\"dataframe\">\n",
       "  <thead>\n",
       "    <tr style=\"text-align: right;\">\n",
       "      <th></th>\n",
       "      <th>Phase</th>\n",
       "      <th>Film</th>\n",
       "      <th>Release Date</th>\n",
       "      <th>North America Box Office</th>\n",
       "      <th>Other Countries Box Office</th>\n",
       "      <th>Worldwide Box Office</th>\n",
       "      <th>Ranking US</th>\n",
       "      <th>Ranking Worldwide</th>\n",
       "      <th>Budget</th>\n",
       "    </tr>\n",
       "  </thead>\n",
       "  <tbody>\n",
       "    <tr>\n",
       "      <th>0</th>\n",
       "      <td>Phase One</td>\n",
       "      <td>Iron Man</td>\n",
       "      <td>2008-05-02</td>\n",
       "      <td>319034126</td>\n",
       "      <td>266762121</td>\n",
       "      <td>585796247</td>\n",
       "      <td>79</td>\n",
       "      <td>176</td>\n",
       "      <td>140000000</td>\n",
       "    </tr>\n",
       "    <tr>\n",
       "      <th>1</th>\n",
       "      <td>Phase One</td>\n",
       "      <td>The Incredible Hulk</td>\n",
       "      <td>2008-06-13</td>\n",
       "      <td>134806913</td>\n",
       "      <td>129964083</td>\n",
       "      <td>264770996</td>\n",
       "      <td>465</td>\n",
       "      <td>593</td>\n",
       "      <td>150000000</td>\n",
       "    </tr>\n",
       "    <tr>\n",
       "      <th>2</th>\n",
       "      <td>Phase One</td>\n",
       "      <td>Iron Man 2</td>\n",
       "      <td>2010-05-07</td>\n",
       "      <td>312433331</td>\n",
       "      <td>311500000</td>\n",
       "      <td>623933331</td>\n",
       "      <td>85</td>\n",
       "      <td>158</td>\n",
       "      <td>200000000</td>\n",
       "    </tr>\n",
       "    <tr>\n",
       "      <th>3</th>\n",
       "      <td>Phase One</td>\n",
       "      <td>Thor</td>\n",
       "      <td>2011-05-06</td>\n",
       "      <td>181030624</td>\n",
       "      <td>268295994</td>\n",
       "      <td>449326618</td>\n",
       "      <td>262</td>\n",
       "      <td>268</td>\n",
       "      <td>150000000</td>\n",
       "    </tr>\n",
       "    <tr>\n",
       "      <th>4</th>\n",
       "      <td>Phase One</td>\n",
       "      <td>Captain America: The First Avenger</td>\n",
       "      <td>2011-07-22</td>\n",
       "      <td>176654505</td>\n",
       "      <td>193915269</td>\n",
       "      <td>370569774</td>\n",
       "      <td>279</td>\n",
       "      <td>367</td>\n",
       "      <td>140000000</td>\n",
       "    </tr>\n",
       "  </tbody>\n",
       "</table>\n",
       "</div>"
      ],
      "text/plain": [
       "       Phase                                Film Release Date  \\\n",
       "0  Phase One                            Iron Man   2008-05-02   \n",
       "1  Phase One                 The Incredible Hulk   2008-06-13   \n",
       "2  Phase One                          Iron Man 2   2010-05-07   \n",
       "3  Phase One                                Thor   2011-05-06   \n",
       "4  Phase One  Captain America: The First Avenger   2011-07-22   \n",
       "\n",
       "   North America Box Office  Other Countries Box Office  Worldwide Box Office  \\\n",
       "0                 319034126                   266762121             585796247   \n",
       "1                 134806913                   129964083             264770996   \n",
       "2                 312433331                   311500000             623933331   \n",
       "3                 181030624                   268295994             449326618   \n",
       "4                 176654505                   193915269             370569774   \n",
       "\n",
       "   Ranking US  Ranking Worldwide     Budget  \n",
       "0          79                176  140000000  \n",
       "1         465                593  150000000  \n",
       "2          85                158  200000000  \n",
       "3         262                268  150000000  \n",
       "4         279                367  140000000  "
      ]
     },
     "execution_count": 14,
     "metadata": {},
     "output_type": "execute_result"
    }
   ],
   "source": [
    "BOX_OFFICE.head(5)"
   ]
  },
  {
   "cell_type": "markdown",
   "id": "919e6a52",
   "metadata": {
    "papermill": {
     "duration": 0.013134,
     "end_time": "2023-01-09T15:30:10.780868",
     "exception": false,
     "start_time": "2023-01-09T15:30:10.767734",
     "status": "completed"
    },
    "tags": []
   },
   "source": [
    "**1.1 Highest Grossing Film Worldwide**"
   ]
  },
  {
   "cell_type": "code",
   "execution_count": 15,
   "id": "69b8f3c8",
   "metadata": {
    "execution": {
     "iopub.execute_input": "2023-01-09T15:30:10.809667Z",
     "iopub.status.busy": "2023-01-09T15:30:10.808955Z",
     "iopub.status.idle": "2023-01-09T15:30:10.814705Z",
     "shell.execute_reply": "2023-01-09T15:30:10.813372Z"
    },
    "papermill": {
     "duration": 0.022826,
     "end_time": "2023-01-09T15:30:10.817170",
     "exception": false,
     "start_time": "2023-01-09T15:30:10.794344",
     "status": "completed"
    },
    "tags": []
   },
   "outputs": [],
   "source": [
    "# Index the Highest Grossing Box Office\n",
    "\n",
    "Highest_Grossing = BOX_OFFICE['Worldwide Box Office'].idxmax()"
   ]
  },
  {
   "cell_type": "code",
   "execution_count": 16,
   "id": "b837a79e",
   "metadata": {
    "execution": {
     "iopub.execute_input": "2023-01-09T15:30:10.845573Z",
     "iopub.status.busy": "2023-01-09T15:30:10.845133Z",
     "iopub.status.idle": "2023-01-09T15:30:10.851066Z",
     "shell.execute_reply": "2023-01-09T15:30:10.849624Z"
    },
    "papermill": {
     "duration": 0.023291,
     "end_time": "2023-01-09T15:30:10.853777",
     "exception": false,
     "start_time": "2023-01-09T15:30:10.830486",
     "status": "completed"
    },
    "tags": []
   },
   "outputs": [],
   "source": [
    "#Results of highest grossing film name and total worldwide take-in amount\n",
    "hi_gross_world= BOX_OFFICE['Film'][Highest_Grossing]\n",
    "hi_gross_box = BOX_OFFICE['Worldwide Box Office'][Highest_Grossing]"
   ]
  },
  {
   "cell_type": "code",
   "execution_count": 17,
   "id": "bee6b893",
   "metadata": {
    "execution": {
     "iopub.execute_input": "2023-01-09T15:30:10.882221Z",
     "iopub.status.busy": "2023-01-09T15:30:10.881818Z",
     "iopub.status.idle": "2023-01-09T15:30:10.888480Z",
     "shell.execute_reply": "2023-01-09T15:30:10.886704Z"
    },
    "papermill": {
     "duration": 0.024358,
     "end_time": "2023-01-09T15:30:10.891284",
     "exception": false,
     "start_time": "2023-01-09T15:30:10.866926",
     "status": "completed"
    },
    "tags": []
   },
   "outputs": [
    {
     "name": "stdout",
     "output_type": "stream",
     "text": [
      "The Highest Grossing film is Avengers: Endgame racking worldwide box office with $2,797,800,564\n"
     ]
    }
   ],
   "source": [
    "print('The Highest Grossing film is {} racking worldwide box office with ${:,}'.format(hi_gross_world, hi_gross_box))"
   ]
  },
  {
   "cell_type": "markdown",
   "id": "1883fd3d",
   "metadata": {
    "papermill": {
     "duration": 0.012439,
     "end_time": "2023-01-09T15:30:10.916764",
     "exception": false,
     "start_time": "2023-01-09T15:30:10.904325",
     "status": "completed"
    },
    "tags": []
   },
   "source": [
    "**1.2 Lowest Grossing Film Worldwide**"
   ]
  },
  {
   "cell_type": "code",
   "execution_count": 18,
   "id": "97fd6a95",
   "metadata": {
    "execution": {
     "iopub.execute_input": "2023-01-09T15:30:10.944688Z",
     "iopub.status.busy": "2023-01-09T15:30:10.944017Z",
     "iopub.status.idle": "2023-01-09T15:30:10.948623Z",
     "shell.execute_reply": "2023-01-09T15:30:10.947647Z"
    },
    "papermill": {
     "duration": 0.021118,
     "end_time": "2023-01-09T15:30:10.950783",
     "exception": false,
     "start_time": "2023-01-09T15:30:10.929665",
     "status": "completed"
    },
    "tags": []
   },
   "outputs": [],
   "source": [
    "# Get Index for lowest grossing film\n",
    "Lowest_Grossing = BOX_OFFICE['Worldwide Box Office'].idxmin()"
   ]
  },
  {
   "cell_type": "code",
   "execution_count": 19,
   "id": "a8b10f1a",
   "metadata": {
    "execution": {
     "iopub.execute_input": "2023-01-09T15:30:10.979825Z",
     "iopub.status.busy": "2023-01-09T15:30:10.979178Z",
     "iopub.status.idle": "2023-01-09T15:30:10.984438Z",
     "shell.execute_reply": "2023-01-09T15:30:10.983109Z"
    },
    "papermill": {
     "duration": 0.022368,
     "end_time": "2023-01-09T15:30:10.986842",
     "exception": false,
     "start_time": "2023-01-09T15:30:10.964474",
     "status": "completed"
    },
    "tags": []
   },
   "outputs": [],
   "source": [
    "#Results of lowest grossing film name and total worldwide take-in amount\n",
    "lo_gross_world= BOX_OFFICE['Film'][Lowest_Grossing]\n",
    "lo_gross_box = BOX_OFFICE['Worldwide Box Office'][Lowest_Grossing]"
   ]
  },
  {
   "cell_type": "code",
   "execution_count": 20,
   "id": "85245410",
   "metadata": {
    "execution": {
     "iopub.execute_input": "2023-01-09T15:30:11.014444Z",
     "iopub.status.busy": "2023-01-09T15:30:11.014000Z",
     "iopub.status.idle": "2023-01-09T15:30:11.021109Z",
     "shell.execute_reply": "2023-01-09T15:30:11.019152Z"
    },
    "papermill": {
     "duration": 0.024409,
     "end_time": "2023-01-09T15:30:11.024185",
     "exception": false,
     "start_time": "2023-01-09T15:30:10.999776",
     "status": "completed"
    },
    "tags": []
   },
   "outputs": [
    {
     "name": "stdout",
     "output_type": "stream",
     "text": [
      "The Highest Grossing film is The Incredible Hulk racking worldwide box office with $264,770,996\n"
     ]
    }
   ],
   "source": [
    "print('The Highest Grossing film is {} racking worldwide box office with ${:,}'.format(lo_gross_world, lo_gross_box))"
   ]
  },
  {
   "cell_type": "markdown",
   "id": "e33eee37",
   "metadata": {
    "papermill": {
     "duration": 0.013294,
     "end_time": "2023-01-09T15:30:11.051347",
     "exception": false,
     "start_time": "2023-01-09T15:30:11.038053",
     "status": "completed"
    },
    "tags": []
   },
   "source": [
    "**2. RATING**"
   ]
  },
  {
   "cell_type": "code",
   "execution_count": 21,
   "id": "bb7709be",
   "metadata": {
    "execution": {
     "iopub.execute_input": "2023-01-09T15:30:11.080465Z",
     "iopub.status.busy": "2023-01-09T15:30:11.079997Z",
     "iopub.status.idle": "2023-01-09T15:30:11.094096Z",
     "shell.execute_reply": "2023-01-09T15:30:11.092055Z"
    },
    "papermill": {
     "duration": 0.031792,
     "end_time": "2023-01-09T15:30:11.096877",
     "exception": false,
     "start_time": "2023-01-09T15:30:11.065085",
     "status": "completed"
    },
    "tags": []
   },
   "outputs": [
    {
     "name": "stdout",
     "output_type": "stream",
     "text": [
      "<class 'pandas.core.frame.DataFrame'>\n",
      "RangeIndex: 30 entries, 0 to 29\n",
      "Data columns (total 6 columns):\n",
      " #   Column                    Non-Null Count  Dtype \n",
      "---  ------                    --------------  ----- \n",
      " 0   Phase                     30 non-null     object\n",
      " 1   Film                      30 non-null     object\n",
      " 2   Critical Rotten Tomatoes  30 non-null     object\n",
      " 3   Critical Metacritic       30 non-null     object\n",
      " 4   Public CinemaScore        30 non-null     object\n",
      " 5   Public PostTrak           30 non-null     object\n",
      "dtypes: object(6)\n",
      "memory usage: 1.5+ KB\n"
     ]
    }
   ],
   "source": [
    "RATING.info()"
   ]
  },
  {
   "cell_type": "code",
   "execution_count": 22,
   "id": "b11bee1a",
   "metadata": {
    "execution": {
     "iopub.execute_input": "2023-01-09T15:30:11.125690Z",
     "iopub.status.busy": "2023-01-09T15:30:11.125241Z",
     "iopub.status.idle": "2023-01-09T15:30:11.132350Z",
     "shell.execute_reply": "2023-01-09T15:30:11.131121Z"
    },
    "papermill": {
     "duration": 0.024757,
     "end_time": "2023-01-09T15:30:11.135213",
     "exception": false,
     "start_time": "2023-01-09T15:30:11.110456",
     "status": "completed"
    },
    "tags": []
   },
   "outputs": [],
   "source": [
    "# rename columns\n",
    "\n",
    "RATING.rename(columns={'Critical Rotten Tomatoes': 'Rotten Tomatoes Rating',\n",
    "                       'Critical Metacritic': 'Metacritic Rating',\n",
    "                       'Public CinemaScore': 'CinemaScore Grade',\n",
    "                       'Public PostTrak': 'PostTrak Rating', \n",
    "                       }, \n",
    "                      inplace=True)"
   ]
  },
  {
   "cell_type": "code",
   "execution_count": 23,
   "id": "7f0b25b2",
   "metadata": {
    "execution": {
     "iopub.execute_input": "2023-01-09T15:30:11.165463Z",
     "iopub.status.busy": "2023-01-09T15:30:11.164994Z",
     "iopub.status.idle": "2023-01-09T15:30:11.173611Z",
     "shell.execute_reply": "2023-01-09T15:30:11.172274Z"
    },
    "papermill": {
     "duration": 0.027027,
     "end_time": "2023-01-09T15:30:11.176457",
     "exception": false,
     "start_time": "2023-01-09T15:30:11.149430",
     "status": "completed"
    },
    "tags": []
   },
   "outputs": [],
   "source": [
    "#remove '% (XX reviews)' in Rotten Tomatoes\n",
    "\n",
    "RATING['Rotten Tomatoes Rating'] = RATING['Rotten Tomatoes Rating'].str[:-15]\n",
    "\n",
    "# remove '% (XX reviews)' in MetaCritic\n",
    "RATING['Metacritic Rating'] = RATING['Metacritic Rating'].str[:-13]\n"
   ]
  },
  {
   "cell_type": "code",
   "execution_count": 24,
   "id": "f102d249",
   "metadata": {
    "execution": {
     "iopub.execute_input": "2023-01-09T15:30:11.206853Z",
     "iopub.status.busy": "2023-01-09T15:30:11.206371Z",
     "iopub.status.idle": "2023-01-09T15:30:11.222161Z",
     "shell.execute_reply": "2023-01-09T15:30:11.220904Z"
    },
    "papermill": {
     "duration": 0.034934,
     "end_time": "2023-01-09T15:30:11.224735",
     "exception": false,
     "start_time": "2023-01-09T15:30:11.189801",
     "status": "completed"
    },
    "tags": []
   },
   "outputs": [
    {
     "data": {
      "text/html": [
       "<div>\n",
       "<style scoped>\n",
       "    .dataframe tbody tr th:only-of-type {\n",
       "        vertical-align: middle;\n",
       "    }\n",
       "\n",
       "    .dataframe tbody tr th {\n",
       "        vertical-align: top;\n",
       "    }\n",
       "\n",
       "    .dataframe thead th {\n",
       "        text-align: right;\n",
       "    }\n",
       "</style>\n",
       "<table border=\"1\" class=\"dataframe\">\n",
       "  <thead>\n",
       "    <tr style=\"text-align: right;\">\n",
       "      <th></th>\n",
       "      <th>Phase</th>\n",
       "      <th>Film</th>\n",
       "      <th>Rotten Tomatoes Rating</th>\n",
       "      <th>Metacritic Rating</th>\n",
       "      <th>CinemaScore Grade</th>\n",
       "      <th>PostTrak Rating</th>\n",
       "    </tr>\n",
       "  </thead>\n",
       "  <tbody>\n",
       "    <tr>\n",
       "      <th>0</th>\n",
       "      <td>Phase One</td>\n",
       "      <td>Iron Man</td>\n",
       "      <td>94</td>\n",
       "      <td>79</td>\n",
       "      <td>A</td>\n",
       "      <td>—</td>\n",
       "    </tr>\n",
       "    <tr>\n",
       "      <th>1</th>\n",
       "      <td>Phase One</td>\n",
       "      <td>The Incredible Hulk</td>\n",
       "      <td>67</td>\n",
       "      <td>61</td>\n",
       "      <td>A−</td>\n",
       "      <td>—</td>\n",
       "    </tr>\n",
       "    <tr>\n",
       "      <th>2</th>\n",
       "      <td>Phase One</td>\n",
       "      <td>Iron Man 2</td>\n",
       "      <td>71</td>\n",
       "      <td>57</td>\n",
       "      <td>A</td>\n",
       "      <td>—</td>\n",
       "    </tr>\n",
       "    <tr>\n",
       "      <th>3</th>\n",
       "      <td>Phase One</td>\n",
       "      <td>Thor</td>\n",
       "      <td>77</td>\n",
       "      <td>57</td>\n",
       "      <td>B+</td>\n",
       "      <td>—</td>\n",
       "    </tr>\n",
       "    <tr>\n",
       "      <th>4</th>\n",
       "      <td>Phase One</td>\n",
       "      <td>Captain America: The First Avenger</td>\n",
       "      <td>79</td>\n",
       "      <td>66</td>\n",
       "      <td>A−</td>\n",
       "      <td>—</td>\n",
       "    </tr>\n",
       "  </tbody>\n",
       "</table>\n",
       "</div>"
      ],
      "text/plain": [
       "       Phase                                Film Rotten Tomatoes Rating  \\\n",
       "0  Phase One                            Iron Man                     94   \n",
       "1  Phase One                 The Incredible Hulk                     67   \n",
       "2  Phase One                          Iron Man 2                     71   \n",
       "3  Phase One                                Thor                     77   \n",
       "4  Phase One  Captain America: The First Avenger                     79   \n",
       "\n",
       "  Metacritic Rating CinemaScore Grade PostTrak Rating  \n",
       "0                79                 A               —  \n",
       "1                61                A−               —  \n",
       "2                57                 A               —  \n",
       "3                57                B+               —  \n",
       "4                66                A−               —  "
      ]
     },
     "execution_count": 24,
     "metadata": {},
     "output_type": "execute_result"
    }
   ],
   "source": [
    "RATING.head(5)"
   ]
  },
  {
   "cell_type": "code",
   "execution_count": 25,
   "id": "167f49f6",
   "metadata": {
    "execution": {
     "iopub.execute_input": "2023-01-09T15:30:11.254684Z",
     "iopub.status.busy": "2023-01-09T15:30:11.254212Z",
     "iopub.status.idle": "2023-01-09T15:30:11.262362Z",
     "shell.execute_reply": "2023-01-09T15:30:11.260995Z"
    },
    "papermill": {
     "duration": 0.025916,
     "end_time": "2023-01-09T15:30:11.264986",
     "exception": false,
     "start_time": "2023-01-09T15:30:11.239070",
     "status": "completed"
    },
    "tags": []
   },
   "outputs": [],
   "source": [
    "#remove - and % in PostTrak\n",
    "RATING['PostTrak Rating'] = RATING['PostTrak Rating'].str.replace('—', '', regex=True)\n",
    "\n",
    "RATING['PostTrak Rating'] = RATING['PostTrak Rating'].str.replace('%', '', regex=True)"
   ]
  },
  {
   "cell_type": "code",
   "execution_count": 26,
   "id": "71b42e8d",
   "metadata": {
    "execution": {
     "iopub.execute_input": "2023-01-09T15:30:11.295852Z",
     "iopub.status.busy": "2023-01-09T15:30:11.295245Z",
     "iopub.status.idle": "2023-01-09T15:30:11.303039Z",
     "shell.execute_reply": "2023-01-09T15:30:11.301798Z"
    },
    "papermill": {
     "duration": 0.026167,
     "end_time": "2023-01-09T15:30:11.305829",
     "exception": false,
     "start_time": "2023-01-09T15:30:11.279662",
     "status": "completed"
    },
    "tags": []
   },
   "outputs": [],
   "source": [
    "RATING['Rotten Tomatoes Rating'] = pd.to_numeric(RATING['Rotten Tomatoes Rating'])\n",
    "\n",
    "RATING['Metacritic Rating'] = pd.to_numeric(RATING['Metacritic Rating'])\n",
    "\n",
    "RATING['PostTrak Rating'] = pd.to_numeric(RATING['PostTrak Rating'])"
   ]
  },
  {
   "cell_type": "code",
   "execution_count": 27,
   "id": "db8d5759",
   "metadata": {
    "execution": {
     "iopub.execute_input": "2023-01-09T15:30:11.335082Z",
     "iopub.status.busy": "2023-01-09T15:30:11.334666Z",
     "iopub.status.idle": "2023-01-09T15:30:11.349159Z",
     "shell.execute_reply": "2023-01-09T15:30:11.347771Z"
    },
    "papermill": {
     "duration": 0.032472,
     "end_time": "2023-01-09T15:30:11.351853",
     "exception": false,
     "start_time": "2023-01-09T15:30:11.319381",
     "status": "completed"
    },
    "tags": []
   },
   "outputs": [
    {
     "name": "stdout",
     "output_type": "stream",
     "text": [
      "<class 'pandas.core.frame.DataFrame'>\n",
      "RangeIndex: 30 entries, 0 to 29\n",
      "Data columns (total 6 columns):\n",
      " #   Column                  Non-Null Count  Dtype  \n",
      "---  ------                  --------------  -----  \n",
      " 0   Phase                   30 non-null     object \n",
      " 1   Film                    30 non-null     object \n",
      " 2   Rotten Tomatoes Rating  30 non-null     int64  \n",
      " 3   Metacritic Rating       30 non-null     int64  \n",
      " 4   CinemaScore Grade       30 non-null     object \n",
      " 5   PostTrak Rating         16 non-null     float64\n",
      "dtypes: float64(1), int64(2), object(3)\n",
      "memory usage: 1.5+ KB\n"
     ]
    }
   ],
   "source": [
    "RATING.info()"
   ]
  },
  {
   "cell_type": "code",
   "execution_count": 28,
   "id": "c95d219f",
   "metadata": {
    "execution": {
     "iopub.execute_input": "2023-01-09T15:30:11.380466Z",
     "iopub.status.busy": "2023-01-09T15:30:11.380064Z",
     "iopub.status.idle": "2023-01-09T15:30:11.394282Z",
     "shell.execute_reply": "2023-01-09T15:30:11.392969Z"
    },
    "papermill": {
     "duration": 0.031535,
     "end_time": "2023-01-09T15:30:11.396703",
     "exception": false,
     "start_time": "2023-01-09T15:30:11.365168",
     "status": "completed"
    },
    "tags": []
   },
   "outputs": [
    {
     "data": {
      "text/html": [
       "<div>\n",
       "<style scoped>\n",
       "    .dataframe tbody tr th:only-of-type {\n",
       "        vertical-align: middle;\n",
       "    }\n",
       "\n",
       "    .dataframe tbody tr th {\n",
       "        vertical-align: top;\n",
       "    }\n",
       "\n",
       "    .dataframe thead th {\n",
       "        text-align: right;\n",
       "    }\n",
       "</style>\n",
       "<table border=\"1\" class=\"dataframe\">\n",
       "  <thead>\n",
       "    <tr style=\"text-align: right;\">\n",
       "      <th></th>\n",
       "      <th>Phase</th>\n",
       "      <th>Film</th>\n",
       "      <th>Rotten Tomatoes Rating</th>\n",
       "      <th>Metacritic Rating</th>\n",
       "      <th>CinemaScore Grade</th>\n",
       "      <th>PostTrak Rating</th>\n",
       "    </tr>\n",
       "  </thead>\n",
       "  <tbody>\n",
       "    <tr>\n",
       "      <th>25</th>\n",
       "      <td>Phase Four</td>\n",
       "      <td>Eternals</td>\n",
       "      <td>47</td>\n",
       "      <td>52</td>\n",
       "      <td>B</td>\n",
       "      <td>78.0</td>\n",
       "    </tr>\n",
       "    <tr>\n",
       "      <th>26</th>\n",
       "      <td>Phase Four</td>\n",
       "      <td>Spider-Man: No Way Home</td>\n",
       "      <td>93</td>\n",
       "      <td>71</td>\n",
       "      <td>A+</td>\n",
       "      <td>96.0</td>\n",
       "    </tr>\n",
       "    <tr>\n",
       "      <th>27</th>\n",
       "      <td>Phase Four</td>\n",
       "      <td>Doctor Strange in the Multiverse of Madness</td>\n",
       "      <td>74</td>\n",
       "      <td>60</td>\n",
       "      <td>B+</td>\n",
       "      <td>82.0</td>\n",
       "    </tr>\n",
       "    <tr>\n",
       "      <th>28</th>\n",
       "      <td>Phase Four</td>\n",
       "      <td>Thor: Love and Thunder</td>\n",
       "      <td>64</td>\n",
       "      <td>57</td>\n",
       "      <td>B+</td>\n",
       "      <td>77.0</td>\n",
       "    </tr>\n",
       "    <tr>\n",
       "      <th>29</th>\n",
       "      <td>Phase Four</td>\n",
       "      <td>Black Panther: Wakanda Forever</td>\n",
       "      <td>84</td>\n",
       "      <td>67</td>\n",
       "      <td>A</td>\n",
       "      <td>93.0</td>\n",
       "    </tr>\n",
       "  </tbody>\n",
       "</table>\n",
       "</div>"
      ],
      "text/plain": [
       "         Phase                                         Film  \\\n",
       "25  Phase Four                                     Eternals   \n",
       "26  Phase Four                      Spider-Man: No Way Home   \n",
       "27  Phase Four  Doctor Strange in the Multiverse of Madness   \n",
       "28  Phase Four                       Thor: Love and Thunder   \n",
       "29  Phase Four               Black Panther: Wakanda Forever   \n",
       "\n",
       "    Rotten Tomatoes Rating  Metacritic Rating CinemaScore Grade  \\\n",
       "25                      47                 52                 B   \n",
       "26                      93                 71                A+   \n",
       "27                      74                 60                B+   \n",
       "28                      64                 57                B+   \n",
       "29                      84                 67                 A   \n",
       "\n",
       "    PostTrak Rating  \n",
       "25             78.0  \n",
       "26             96.0  \n",
       "27             82.0  \n",
       "28             77.0  \n",
       "29             93.0  "
      ]
     },
     "execution_count": 28,
     "metadata": {},
     "output_type": "execute_result"
    }
   ],
   "source": [
    "RATING.tail(5)"
   ]
  },
  {
   "cell_type": "markdown",
   "id": "5b2eeb77",
   "metadata": {
    "papermill": {
     "duration": 0.013636,
     "end_time": "2023-01-09T15:30:11.424109",
     "exception": false,
     "start_time": "2023-01-09T15:30:11.410473",
     "status": "completed"
    },
    "tags": []
   },
   "source": [
    "**2.1 Highest Rating Film Worldwide**"
   ]
  },
  {
   "cell_type": "code",
   "execution_count": 29,
   "id": "f9c1e2bd",
   "metadata": {
    "execution": {
     "iopub.execute_input": "2023-01-09T15:30:11.452831Z",
     "iopub.status.busy": "2023-01-09T15:30:11.452329Z",
     "iopub.status.idle": "2023-01-09T15:30:11.458008Z",
     "shell.execute_reply": "2023-01-09T15:30:11.456668Z"
    },
    "papermill": {
     "duration": 0.023009,
     "end_time": "2023-01-09T15:30:11.460570",
     "exception": false,
     "start_time": "2023-01-09T15:30:11.437561",
     "status": "completed"
    },
    "tags": []
   },
   "outputs": [],
   "source": [
    "# Highest Rating Film\n",
    "Highest_Rating = RATING['Rotten Tomatoes Rating'].idxmax()"
   ]
  },
  {
   "cell_type": "code",
   "execution_count": 30,
   "id": "75f9cd8f",
   "metadata": {
    "execution": {
     "iopub.execute_input": "2023-01-09T15:30:11.490776Z",
     "iopub.status.busy": "2023-01-09T15:30:11.490327Z",
     "iopub.status.idle": "2023-01-09T15:30:11.496075Z",
     "shell.execute_reply": "2023-01-09T15:30:11.494866Z"
    },
    "papermill": {
     "duration": 0.02396,
     "end_time": "2023-01-09T15:30:11.498511",
     "exception": false,
     "start_time": "2023-01-09T15:30:11.474551",
     "status": "completed"
    },
    "tags": []
   },
   "outputs": [],
   "source": [
    "#Results of highest rating film name and rotten tomatoes rating\n",
    "hi_rate_name= RATING['Film'][Highest_Rating]\n",
    "hi_rate_rot = RATING['Rotten Tomatoes Rating'][Highest_Rating]"
   ]
  },
  {
   "cell_type": "code",
   "execution_count": 31,
   "id": "08872f69",
   "metadata": {
    "execution": {
     "iopub.execute_input": "2023-01-09T15:30:11.528502Z",
     "iopub.status.busy": "2023-01-09T15:30:11.528105Z",
     "iopub.status.idle": "2023-01-09T15:30:11.534192Z",
     "shell.execute_reply": "2023-01-09T15:30:11.532958Z"
    },
    "papermill": {
     "duration": 0.023806,
     "end_time": "2023-01-09T15:30:11.536993",
     "exception": false,
     "start_time": "2023-01-09T15:30:11.513187",
     "status": "completed"
    },
    "tags": []
   },
   "outputs": [
    {
     "name": "stdout",
     "output_type": "stream",
     "text": [
      "The Highest Rating film in Rotten Tomatoes is Black Panther with rating of 96%\n"
     ]
    }
   ],
   "source": [
    "print('The Highest Rating film in Rotten Tomatoes is {} with rating of {}%'.format(hi_rate_name, hi_rate_rot))"
   ]
  },
  {
   "cell_type": "markdown",
   "id": "486a9058",
   "metadata": {
    "papermill": {
     "duration": 0.013336,
     "end_time": "2023-01-09T15:30:11.564352",
     "exception": false,
     "start_time": "2023-01-09T15:30:11.551016",
     "status": "completed"
    },
    "tags": []
   },
   "source": [
    "**2.2 Lowest Rating Film Worldwide**"
   ]
  },
  {
   "cell_type": "code",
   "execution_count": 32,
   "id": "98bb05c6",
   "metadata": {
    "execution": {
     "iopub.execute_input": "2023-01-09T15:30:11.593808Z",
     "iopub.status.busy": "2023-01-09T15:30:11.593356Z",
     "iopub.status.idle": "2023-01-09T15:30:11.599244Z",
     "shell.execute_reply": "2023-01-09T15:30:11.598093Z"
    },
    "papermill": {
     "duration": 0.023405,
     "end_time": "2023-01-09T15:30:11.601613",
     "exception": false,
     "start_time": "2023-01-09T15:30:11.578208",
     "status": "completed"
    },
    "tags": []
   },
   "outputs": [],
   "source": [
    "#Lowest Rating Film\n",
    "\n",
    "Lowest_Rating = RATING['Rotten Tomatoes Rating'].idxmin()"
   ]
  },
  {
   "cell_type": "code",
   "execution_count": 33,
   "id": "0ad07719",
   "metadata": {
    "execution": {
     "iopub.execute_input": "2023-01-09T15:30:11.631026Z",
     "iopub.status.busy": "2023-01-09T15:30:11.630597Z",
     "iopub.status.idle": "2023-01-09T15:30:11.636299Z",
     "shell.execute_reply": "2023-01-09T15:30:11.635013Z"
    },
    "papermill": {
     "duration": 0.023745,
     "end_time": "2023-01-09T15:30:11.639097",
     "exception": false,
     "start_time": "2023-01-09T15:30:11.615352",
     "status": "completed"
    },
    "tags": []
   },
   "outputs": [],
   "source": [
    "#Results of Lowest rating film name and rotten tomatoes rating\n",
    "lo_rate_name= RATING['Film'][Lowest_Rating]\n",
    "lo_rate_rot = RATING['Rotten Tomatoes Rating'][Lowest_Rating]"
   ]
  },
  {
   "cell_type": "code",
   "execution_count": 34,
   "id": "b7aeba14",
   "metadata": {
    "execution": {
     "iopub.execute_input": "2023-01-09T15:30:11.668936Z",
     "iopub.status.busy": "2023-01-09T15:30:11.668498Z",
     "iopub.status.idle": "2023-01-09T15:30:11.673846Z",
     "shell.execute_reply": "2023-01-09T15:30:11.672672Z"
    },
    "papermill": {
     "duration": 0.024073,
     "end_time": "2023-01-09T15:30:11.677377",
     "exception": false,
     "start_time": "2023-01-09T15:30:11.653304",
     "status": "completed"
    },
    "tags": []
   },
   "outputs": [
    {
     "name": "stdout",
     "output_type": "stream",
     "text": [
      "The Lowest Rating film in Rotten Tomatoes is Eternals with rating of 47%\n"
     ]
    }
   ],
   "source": [
    "print('The Lowest Rating film in Rotten Tomatoes is {} with rating of {}%'.format(lo_rate_name, lo_rate_rot))"
   ]
  },
  {
   "cell_type": "markdown",
   "id": "6ce9164a",
   "metadata": {
    "papermill": {
     "duration": 0.013468,
     "end_time": "2023-01-09T15:30:11.705900",
     "exception": false,
     "start_time": "2023-01-09T15:30:11.692432",
     "status": "completed"
    },
    "tags": []
   },
   "source": [
    "**To be continue...**\n",
    "\n",
    "\n",
    "The goal of this project is to use Dash and Plotly to create an HTML interactive Dashboard "
   ]
  }
 ],
 "metadata": {
  "kernelspec": {
   "display_name": "Python 3",
   "language": "python",
   "name": "python3"
  },
  "language_info": {
   "codemirror_mode": {
    "name": "ipython",
    "version": 3
   },
   "file_extension": ".py",
   "mimetype": "text/x-python",
   "name": "python",
   "nbconvert_exporter": "python",
   "pygments_lexer": "ipython3",
   "version": "3.7.12"
  },
  "papermill": {
   "default_parameters": {},
   "duration": 52.312966,
   "end_time": "2023-01-09T15:30:12.542374",
   "environment_variables": {},
   "exception": null,
   "input_path": "__notebook__.ipynb",
   "output_path": "__notebook__.ipynb",
   "parameters": {},
   "start_time": "2023-01-09T15:29:20.229408",
   "version": "2.3.4"
  }
 },
 "nbformat": 4,
 "nbformat_minor": 5
}
